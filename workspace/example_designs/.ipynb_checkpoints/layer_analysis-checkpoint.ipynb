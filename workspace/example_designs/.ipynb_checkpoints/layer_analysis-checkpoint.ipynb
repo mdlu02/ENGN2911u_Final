{
 "cells": [
  {
   "cell_type": "code",
   "execution_count": 1,
   "id": "1529c667-f60f-45a3-8b8b-bd57d55fbba1",
   "metadata": {},
   "outputs": [],
   "source": [
    "import os\n",
    "import pandas as pd\n",
    "import matplotlib.pyplot as plt"
   ]
  },
  {
   "cell_type": "code",
   "execution_count": 2,
   "id": "55884991-bca7-49ea-b413-7aee8db97964",
   "metadata": {},
   "outputs": [],
   "source": [
    "datasets = {\n",
    "    \"ConvNeXt\": \"ConvNeXt\",\n",
    "    \"AlexNet\": \"CONV/AlexNet\",\n",
    "    \"Resnet18\": \"resnet18\",\n",
    "}\n",
    "\n",
    "model = \"ConvNeXt\"\n",
    "model_path = datasets[\"ConvNeXt\"]"
   ]
  },
  {
   "cell_type": "code",
   "execution_count": null,
   "id": "801995da-2656-4055-9c9a-d7ac2f2d7006",
   "metadata": {},
   "outputs": [],
   "source": [
    "os.system(f\"python3 run_example_designs.py --architecture eyeriss_like --problem {model_path} --n_jobs 6 --clear-outputs\")\n",
    "os.system(f\"python3 run_example_designs.py --architecture eyeriss_like --problem {model_path} --n_jobs 6\")"
   ]
  },
  {
   "cell_type": "code",
   "execution_count": 26,
   "id": "a8aec9f4-4069-4146-ba2c-383253822022",
   "metadata": {},
   "outputs": [
    {
     "data": {
      "text/plain": [
       "{'GFLOPs': 332.5,\n",
       " 'Utilization (%)': 100.0,\n",
       " 'Cycles': 114688,\n",
       " 'Energy (uJ)': 175.28,\n",
       " 'EDP (J*cycle)': 20.1,\n",
       " 'Area (mm^2)': 0.0,\n",
       " 'Computes': 19267584,\n",
       " 'fJ/Compute': {'mac': 262.78,\n",
       "  'psum_spad': 3374.83,\n",
       "  'weights_spad': 2640.44,\n",
       "  'ifmap_spad': 961.71,\n",
       "  'shared_glb': 193.3,\n",
       "  'DRAM': 1664.33,\n",
       "  'Total': 9097.4}}"
      ]
     },
     "execution_count": 26,
     "metadata": {},
     "output_type": "execute_result"
    }
   ],
   "source": [
    "def parse_summary_stats(file_path):\n",
    "    summary = {}\n",
    "    computes_section = False\n",
    "    fJ_per_compute = {}\n",
    "\n",
    "    with open(file_path, 'r') as f:\n",
    "        found = False\n",
    "        for line in f:\n",
    "            line = line.strip()\n",
    "\n",
    "            # Skip empty lines\n",
    "            if line.strip() == \"Summary Stats\":\n",
    "                found = True\n",
    "            if not line or not found:\n",
    "                continue\n",
    "\n",
    "            if line.startswith(\"GFLOPs\"):\n",
    "                summary[\"GFLOPs\"] = float(line.split(\":\")[1].strip().split()[0])\n",
    "            elif line.startswith(\"Utilization\"):\n",
    "                summary[\"Utilization (%)\"] = float(line.split(\":\")[1].strip().replace('%', ''))\n",
    "            elif line.startswith(\"Cycles\"):\n",
    "                summary[\"Cycles\"] = int(line.split(\":\")[1].strip())\n",
    "            elif line.startswith(\"Energy\"):\n",
    "                summary[\"Energy (uJ)\"] = float(line.split(\":\")[1].strip().replace('uJ', ''))\n",
    "            elif line.startswith(\"EDP\"):\n",
    "                summary[\"EDP (J*cycle)\"] = float(line.split(\":\")[1].strip())\n",
    "            elif line.startswith(\"Area\"):\n",
    "                summary[\"Area (mm^2)\"] = float(line.split(\":\")[1].strip().replace('mm^2', ''))\n",
    "            elif line.startswith(\"Computes =\"):\n",
    "                summary[\"Computes\"] = int(line.split(\"=\")[1].strip())\n",
    "                computes_section = True\n",
    "            elif computes_section and '=' in line:\n",
    "                key, val = map(str.strip, line.split('='))\n",
    "                fJ_per_compute[key] = float(val)\n",
    "\n",
    "    summary[\"fJ/Compute\"] = fJ_per_compute\n",
    "    return summary\n",
    "\n",
    "parse_summary_stats(\"example_designs/eyeriss_like/outputs/00/timeloop-mapper.stats.txt\")"
   ]
  },
  {
   "cell_type": "code",
   "execution_count": 28,
   "id": "e828f24d-aee9-46f3-b6e9-f727a1a68cba",
   "metadata": {},
   "outputs": [],
   "source": [
    "results = []\n",
    "for d in os.listdir(\"example_designs/eyeriss_like/outputs\"):\n",
    "    layer_name = f\"{model}_{d}\"\n",
    "    layer_stats = parse_summary_stats(f\"example_designs/eyeriss_like/outputs/{d}/timeloop-mapper.stats.txt\")\n",
    "    layer_stats[\"layer\"] = layer_name\n",
    "    results.append(layer_stats)\n",
    "\n",
    "df = pd.DataFrame(results)\n",
    "df"
   ]
  },
  {
   "cell_type": "code",
   "execution_count": null,
   "id": "4fecabab-ada2-4172-996c-b3110bde56c9",
   "metadata": {},
   "outputs": [],
   "source": []
  }
 ],
 "metadata": {
  "kernelspec": {
   "display_name": "Python 3 (ipykernel)",
   "language": "python",
   "name": "python3"
  },
  "language_info": {
   "codemirror_mode": {
    "name": "ipython",
    "version": 3
   },
   "file_extension": ".py",
   "mimetype": "text/x-python",
   "name": "python",
   "nbconvert_exporter": "python",
   "pygments_lexer": "ipython3",
   "version": "3.10.12"
  }
 },
 "nbformat": 4,
 "nbformat_minor": 5
}
