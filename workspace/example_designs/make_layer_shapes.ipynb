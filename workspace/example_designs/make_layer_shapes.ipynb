{
 "cells": [
  {
   "cell_type": "code",
   "execution_count": 1,
   "id": "55960059-59ec-4308-9ac1-251fd5731d8f",
   "metadata": {},
   "outputs": [],
   "source": [
    "import torch\n",
    "import torch.nn as nn\n",
    "import torchvision"
   ]
  },
  {
   "cell_type": "code",
   "execution_count": 2,
   "id": "5ce9bdea-a0d3-4945-a7ee-06381d0eb353",
   "metadata": {},
   "outputs": [],
   "source": [
    "def print_shapes(model, input_tensor, output_file=\"\"):\n",
    "    def hook(module, input, output):\n",
    "        if isinstance(output, tuple):\n",
    "            info = f\"{module.__class__.__name__}|input_shape={tuple(input[0].shape)}|output_shape={tuple(output[0].shape)}\"\n",
    "        else:\n",
    "            info = f\"{module.__class__.__name__}|input_shape={tuple(input[0].shape)}|output_shape={tuple(output.shape)}\"\n",
    "\n",
    "        if isinstance(module, (nn.Conv2d, nn.Conv1d, nn.Conv3d)):\n",
    "            info += f\"|kernel_size={module.kernel_size}|stride={module.stride}\"\n",
    "        elif isinstance(module, (nn.MaxPool2d, nn.AvgPool2d)):\n",
    "            info += f\"|kernel_size={module.kernel_size}|stride={module.stride}\"\n",
    "        elif isinstance(module, (nn.Linear,)):\n",
    "            info += f\"|in_features={module.in_features}|out_features={module.out_features}\"\n",
    "        elif isinstance(module, (nn.BatchNorm2d, nn.BatchNorm1d)):\n",
    "            info += f\"|num_features={module.num_features}\"\n",
    "        \n",
    "        print(info)\n",
    "        print(info, file=text_file)\n",
    "\n",
    "    with open(output_file, \"w\") as text_file:\n",
    "        hooks = []\n",
    "        for layer in model.modules():\n",
    "            if not isinstance(layer, nn.Sequential) and not isinstance(layer, nn.ModuleList) and layer != model:\n",
    "                hooks.append(layer.register_forward_hook(hook))\n",
    "    \n",
    "        model(input_tensor)\n",
    "    \n",
    "        for h in hooks:\n",
    "            h.remove()"
   ]
  },
  {
   "cell_type": "code",
   "execution_count": 3,
   "id": "f37d70ce-762e-453a-9426-7a7daeb114a5",
   "metadata": {},
   "outputs": [],
   "source": [
    "dummy_input = torch.randn(1, 3, 224, 224)"
   ]
  },
  {
   "cell_type": "code",
   "execution_count": 4,
   "id": "fba89a04-d8c1-4ef5-921b-700a84e612c8",
   "metadata": {},
   "outputs": [
    {
     "name": "stdout",
     "output_type": "stream",
     "text": [
      "Conv2d|input_shape=(1, 3, 224, 224)|output_shape=(1, 64, 112, 112)|kernel_size=(7, 7)|stride=(2, 2)\n",
      "BatchNorm2d|input_shape=(1, 64, 112, 112)|output_shape=(1, 64, 112, 112)|num_features=64\n",
      "ReLU|input_shape=(1, 64, 112, 112)|output_shape=(1, 64, 112, 112)\n",
      "MaxPool2d|input_shape=(1, 64, 112, 112)|output_shape=(1, 64, 56, 56)|kernel_size=3|stride=2\n",
      "Conv2d|input_shape=(1, 64, 56, 56)|output_shape=(1, 64, 56, 56)|kernel_size=(3, 3)|stride=(1, 1)\n",
      "BatchNorm2d|input_shape=(1, 64, 56, 56)|output_shape=(1, 64, 56, 56)|num_features=64\n",
      "ReLU|input_shape=(1, 64, 56, 56)|output_shape=(1, 64, 56, 56)\n",
      "Conv2d|input_shape=(1, 64, 56, 56)|output_shape=(1, 64, 56, 56)|kernel_size=(3, 3)|stride=(1, 1)\n",
      "BatchNorm2d|input_shape=(1, 64, 56, 56)|output_shape=(1, 64, 56, 56)|num_features=64\n",
      "ReLU|input_shape=(1, 64, 56, 56)|output_shape=(1, 64, 56, 56)\n",
      "BasicBlock|input_shape=(1, 64, 56, 56)|output_shape=(1, 64, 56, 56)\n",
      "Conv2d|input_shape=(1, 64, 56, 56)|output_shape=(1, 64, 56, 56)|kernel_size=(3, 3)|stride=(1, 1)\n",
      "BatchNorm2d|input_shape=(1, 64, 56, 56)|output_shape=(1, 64, 56, 56)|num_features=64\n",
      "ReLU|input_shape=(1, 64, 56, 56)|output_shape=(1, 64, 56, 56)\n",
      "Conv2d|input_shape=(1, 64, 56, 56)|output_shape=(1, 64, 56, 56)|kernel_size=(3, 3)|stride=(1, 1)\n",
      "BatchNorm2d|input_shape=(1, 64, 56, 56)|output_shape=(1, 64, 56, 56)|num_features=64\n",
      "ReLU|input_shape=(1, 64, 56, 56)|output_shape=(1, 64, 56, 56)\n",
      "BasicBlock|input_shape=(1, 64, 56, 56)|output_shape=(1, 64, 56, 56)\n",
      "Conv2d|input_shape=(1, 64, 56, 56)|output_shape=(1, 128, 28, 28)|kernel_size=(3, 3)|stride=(2, 2)\n",
      "BatchNorm2d|input_shape=(1, 128, 28, 28)|output_shape=(1, 128, 28, 28)|num_features=128\n",
      "ReLU|input_shape=(1, 128, 28, 28)|output_shape=(1, 128, 28, 28)\n",
      "Conv2d|input_shape=(1, 128, 28, 28)|output_shape=(1, 128, 28, 28)|kernel_size=(3, 3)|stride=(1, 1)\n",
      "BatchNorm2d|input_shape=(1, 128, 28, 28)|output_shape=(1, 128, 28, 28)|num_features=128\n",
      "Conv2d|input_shape=(1, 64, 56, 56)|output_shape=(1, 128, 28, 28)|kernel_size=(1, 1)|stride=(2, 2)\n",
      "BatchNorm2d|input_shape=(1, 128, 28, 28)|output_shape=(1, 128, 28, 28)|num_features=128\n",
      "ReLU|input_shape=(1, 128, 28, 28)|output_shape=(1, 128, 28, 28)\n",
      "BasicBlock|input_shape=(1, 64, 56, 56)|output_shape=(1, 128, 28, 28)\n",
      "Conv2d|input_shape=(1, 128, 28, 28)|output_shape=(1, 128, 28, 28)|kernel_size=(3, 3)|stride=(1, 1)\n",
      "BatchNorm2d|input_shape=(1, 128, 28, 28)|output_shape=(1, 128, 28, 28)|num_features=128\n",
      "ReLU|input_shape=(1, 128, 28, 28)|output_shape=(1, 128, 28, 28)\n",
      "Conv2d|input_shape=(1, 128, 28, 28)|output_shape=(1, 128, 28, 28)|kernel_size=(3, 3)|stride=(1, 1)\n",
      "BatchNorm2d|input_shape=(1, 128, 28, 28)|output_shape=(1, 128, 28, 28)|num_features=128\n",
      "ReLU|input_shape=(1, 128, 28, 28)|output_shape=(1, 128, 28, 28)\n",
      "BasicBlock|input_shape=(1, 128, 28, 28)|output_shape=(1, 128, 28, 28)\n",
      "Conv2d|input_shape=(1, 128, 28, 28)|output_shape=(1, 256, 14, 14)|kernel_size=(3, 3)|stride=(2, 2)\n",
      "BatchNorm2d|input_shape=(1, 256, 14, 14)|output_shape=(1, 256, 14, 14)|num_features=256\n",
      "ReLU|input_shape=(1, 256, 14, 14)|output_shape=(1, 256, 14, 14)\n",
      "Conv2d|input_shape=(1, 256, 14, 14)|output_shape=(1, 256, 14, 14)|kernel_size=(3, 3)|stride=(1, 1)\n",
      "BatchNorm2d|input_shape=(1, 256, 14, 14)|output_shape=(1, 256, 14, 14)|num_features=256\n",
      "Conv2d|input_shape=(1, 128, 28, 28)|output_shape=(1, 256, 14, 14)|kernel_size=(1, 1)|stride=(2, 2)\n",
      "BatchNorm2d|input_shape=(1, 256, 14, 14)|output_shape=(1, 256, 14, 14)|num_features=256\n",
      "ReLU|input_shape=(1, 256, 14, 14)|output_shape=(1, 256, 14, 14)\n",
      "BasicBlock|input_shape=(1, 128, 28, 28)|output_shape=(1, 256, 14, 14)\n",
      "Conv2d|input_shape=(1, 256, 14, 14)|output_shape=(1, 256, 14, 14)|kernel_size=(3, 3)|stride=(1, 1)\n",
      "BatchNorm2d|input_shape=(1, 256, 14, 14)|output_shape=(1, 256, 14, 14)|num_features=256\n",
      "ReLU|input_shape=(1, 256, 14, 14)|output_shape=(1, 256, 14, 14)\n",
      "Conv2d|input_shape=(1, 256, 14, 14)|output_shape=(1, 256, 14, 14)|kernel_size=(3, 3)|stride=(1, 1)\n",
      "BatchNorm2d|input_shape=(1, 256, 14, 14)|output_shape=(1, 256, 14, 14)|num_features=256\n",
      "ReLU|input_shape=(1, 256, 14, 14)|output_shape=(1, 256, 14, 14)\n",
      "BasicBlock|input_shape=(1, 256, 14, 14)|output_shape=(1, 256, 14, 14)\n",
      "Conv2d|input_shape=(1, 256, 14, 14)|output_shape=(1, 512, 7, 7)|kernel_size=(3, 3)|stride=(2, 2)\n",
      "BatchNorm2d|input_shape=(1, 512, 7, 7)|output_shape=(1, 512, 7, 7)|num_features=512\n",
      "ReLU|input_shape=(1, 512, 7, 7)|output_shape=(1, 512, 7, 7)\n",
      "Conv2d|input_shape=(1, 512, 7, 7)|output_shape=(1, 512, 7, 7)|kernel_size=(3, 3)|stride=(1, 1)\n",
      "BatchNorm2d|input_shape=(1, 512, 7, 7)|output_shape=(1, 512, 7, 7)|num_features=512\n",
      "Conv2d|input_shape=(1, 256, 14, 14)|output_shape=(1, 512, 7, 7)|kernel_size=(1, 1)|stride=(2, 2)\n",
      "BatchNorm2d|input_shape=(1, 512, 7, 7)|output_shape=(1, 512, 7, 7)|num_features=512\n",
      "ReLU|input_shape=(1, 512, 7, 7)|output_shape=(1, 512, 7, 7)\n",
      "BasicBlock|input_shape=(1, 256, 14, 14)|output_shape=(1, 512, 7, 7)\n",
      "Conv2d|input_shape=(1, 512, 7, 7)|output_shape=(1, 512, 7, 7)|kernel_size=(3, 3)|stride=(1, 1)\n",
      "BatchNorm2d|input_shape=(1, 512, 7, 7)|output_shape=(1, 512, 7, 7)|num_features=512\n",
      "ReLU|input_shape=(1, 512, 7, 7)|output_shape=(1, 512, 7, 7)\n",
      "Conv2d|input_shape=(1, 512, 7, 7)|output_shape=(1, 512, 7, 7)|kernel_size=(3, 3)|stride=(1, 1)\n",
      "BatchNorm2d|input_shape=(1, 512, 7, 7)|output_shape=(1, 512, 7, 7)|num_features=512\n",
      "ReLU|input_shape=(1, 512, 7, 7)|output_shape=(1, 512, 7, 7)\n",
      "BasicBlock|input_shape=(1, 512, 7, 7)|output_shape=(1, 512, 7, 7)\n",
      "AdaptiveAvgPool2d|input_shape=(1, 512, 7, 7)|output_shape=(1, 512, 1, 1)\n",
      "Linear|input_shape=(1, 512)|output_shape=(1, 1000)|in_features=512|out_features=1000\n"
     ]
    }
   ],
   "source": [
    "model = torchvision.models.resnet18()\n",
    "print_shapes(model, dummy_input, \"layer_shapes/resnet18_test.txt\")"
   ]
  },
  {
   "cell_type": "code",
   "execution_count": 5,
   "id": "f6c3b756-4ef3-4cf4-a447-b227560fc538",
   "metadata": {},
   "outputs": [],
   "source": [
    "from torchvision.models import convnext_base, ConvNeXt_Base_Weights\n",
    "\n",
    "model = convnext_base(weights=ConvNeXt_Base_Weights.DEFAULT)\n",
    "print_shapes(model, dummy_input, \"layer_shapes/ConvNeXt.txt\")"
   ]
  },
  {
   "cell_type": "code",
   "execution_count": 6,
   "id": "1e969245-8e1a-45d4-b49e-b38852a43e4a",
   "metadata": {},
   "outputs": [],
   "source": [
    "from torchvision.models import vit_b_16, ViT_B_16_Weights\n",
    "\n",
    "model = vit_b_16(weights=ViT_B_16_Weights.DEFAULT)\n",
    "print_shapes(model, dummy_input, \"layer_shapes/ViT.txt\")"
   ]
  },
  {
   "cell_type": "code",
   "execution_count": 7,
   "id": "a65926b1-5746-4703-87ec-2c7ed41fb499",
   "metadata": {},
   "outputs": [
    {
     "name": "stdout",
     "output_type": "stream",
     "text": [
      "Processing ConvNeXt.txt\n",
      "Processing ViT.txt\n",
      "Processing resnet18_test.txt\n"
     ]
    }
   ],
   "source": [
    "import os\n",
    "\n",
    "TEMPLATE = \"\"\"{{include_text('../problem_base.yaml')}}\n",
    "problem:\n",
    "  <<<: *problem_base\n",
    "  instance: __REPLACE__\n",
    "\"\"\"\n",
    "def get_shape(parts, field):\n",
    "    s = [x for x in parts if x.startswith(field)][0]\n",
    "    return s.split(\"(\")[1].split(\")\")[0].split(\" \")\n",
    "\n",
    "for file in os.listdir(\"layer_shapes/\"):\n",
    "    if not file.endswith(\"txt\"): continue\n",
    "    print(f\"Processing {file}\")\n",
    "    dir_name = file.split('.')[0]\n",
    "    output_dir = f\"layer_shapes/{dir_name}\"\n",
    "    os.makedirs(output_dir, exist_ok=True)\n",
    "    with open(f\"layer_shapes/{file}\", \"r\") as f:\n",
    "        counter = -1\n",
    "        for line in f:\n",
    "            parts = line.split(\"|\")\n",
    "            input_shape = get_shape(parts, \"input_shape\")\n",
    "            output_shape = get_shape(parts, \"output_shape\")\n",
    "            if line.startswith(\"Conv2d\"):\n",
    "                kernel_size = get_shape(parts, \"kernel_size\")\n",
    "                stride = get_shape(parts, \"stride\")\n",
    "                dim = {\n",
    "                    \"C\": int(input_shape[1].replace(\",\", \"\")),\n",
    "                    \"M\": int(output_shape[1].replace(\",\", \"\")),\n",
    "                    \"P\": int(output_shape[2].replace(\",\", \"\")),\n",
    "                    \"Q\": int(output_shape[3].replace(\",\", \"\")),\n",
    "                    \"R\": int(kernel_size[0].replace(\",\", \"\")),\n",
    "                    \"S\": int(kernel_size[1].replace(\",\", \"\")),\n",
    "                    \"HStride\": int(stride[0].replace(\",\", \"\")),\n",
    "                    \"WStride\": int(stride[1].replace(\",\", \"\"))\n",
    "                }\n",
    "                counter += 1\n",
    "            elif line.startswith(\"Linear\"):\n",
    "                dim = {\n",
    "                    \"C\": int(input_shape[1].replace(\",\", \"\")),\n",
    "                    \"M\": int(output_shape[1].replace(\",\", \"\"))\n",
    "                }\n",
    "                counter += 1\n",
    "            elif line.startswith(\"MultiheadAttention\"):\n",
    "                dim = {\n",
    "                    \"C\": int(input_shape[2].replace(\",\", \"\")),\n",
    "                    \"M\": int(output_shape[2].replace(\",\", \"\")),\n",
    "                    \"P\": int(input_shape[1].replace(\",\", \"\")),\n",
    "                }\n",
    "                counter += 1\n",
    "            with open(f\"{output_dir}/{counter:02}.yaml\", \"w\") as out:\n",
    "                out.write(TEMPLATE.replace(\"__REPLACE__\", str(dim).replace(\"'\", \"\")))\n",
    "            \n",
    "            \n",
    "                "
   ]
  },
  {
   "cell_type": "code",
   "execution_count": null,
   "id": "11acdeda-38e6-46fb-bf20-bbf1106310f4",
   "metadata": {},
   "outputs": [],
   "source": []
  }
 ],
 "metadata": {
  "kernelspec": {
   "display_name": "Python 3 (ipykernel)",
   "language": "python",
   "name": "python3"
  },
  "language_info": {
   "codemirror_mode": {
    "name": "ipython",
    "version": 3
   },
   "file_extension": ".py",
   "mimetype": "text/x-python",
   "name": "python",
   "nbconvert_exporter": "python",
   "pygments_lexer": "ipython3",
   "version": "3.10.12"
  }
 },
 "nbformat": 4,
 "nbformat_minor": 5
}
