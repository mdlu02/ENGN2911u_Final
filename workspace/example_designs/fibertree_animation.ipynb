{
 "cells": [
  {
   "cell_type": "markdown",
   "metadata": {
    "id": "iFCsSgp0oRT6"
   },
   "source": [
    "# Explaining the fibertree traversal semantics\n",
    "\n",
    "This notebook uses the fibertree emulator to explain the semantics of the fibertree code by looking at an analogous form of a uncompressed computations.\n",
    "\n",
    "Here is an example of the progression of a Python uncompressed tensor calculations on (sparse tensors) for a series of calucation\n",
    "sucessively traversing the iteration space using:\n",
    "\n",
    "- range()\n",
    "- enumerate()\n",
    "- list comprehension and\n",
    "- filtered list comprehension\n",
    "\n",
    "Finally, the sequence culminates with the fibertree code operating on tensors with the same values.\n",
    "\n",
    "Note this notebook assumes familiarity with the fibertree terminology, esprecially, `tensor`, `rank`, `coordinate` and `payload`.\n",
    "\n",
    "First, include some libraries"
   ]
  },
  {
   "cell_type": "code",
   "execution_count": 7,
   "metadata": {
    "colab": {
     "base_uri": "https://localhost:8080/",
     "height": 101,
     "referenced_widgets": [
      "f3583acf090a4a9eacb388927b20f9d2",
      "9ed3bc54327e4acba94a9b26b594e6e0",
      "adce976326534c0181c695b60a636a67",
      "b6060759ba34493aa4275a2900d32fda",
      "bcc9e96a02ca4d869dfe47484963c1fa",
      "8a9d97733ec643c6870422266feb7a59",
      "cc1b3ff8ba704b58a5f6df703d719623",
      "e9c9c10e07864cafb3757a4d134290f2",
      "982f3b6ae716417c8e8b3e340ed4c404",
      "8e238e6f5b5c4d35be31b471f153b358"
     ]
    },
    "id": "t7CKsu9doRT7",
    "outputId": "9b598350-d370-4c2b-e41f-9db80372ab3e"
   },
   "outputs": [
    {
     "name": "stdout",
     "output_type": "stream",
     "text": [
      "Running bootstrap\n",
      "The fibertree module is already installed and available to import\n"
     ]
    },
    {
     "data": {
      "application/vnd.jupyter.widget-view+json": {
       "model_id": "efc05c9eb9ee4c4bbb13080463529bb8",
       "version_major": 2,
       "version_minor": 0
      },
      "text/plain": [
       "interactive(children=(Dropdown(description='style', options=('tree', 'uncompressed', 'tree+uncompressed'), val…"
      ]
     },
     "metadata": {},
     "output_type": "display_data"
    },
    {
     "data": {
      "application/vnd.jupyter.widget-view+json": {
       "model_id": "c429c733c6d04a0f8ed210bd5329de7c",
       "version_major": 2,
       "version_minor": 0
      },
      "text/plain": [
       "Button(description='Run all cells below', style=ButtonStyle())"
      ]
     },
     "metadata": {},
     "output_type": "display_data"
    }
   ],
   "source": [
    "# Begin - startup boilerplate code\n",
    "\n",
    "import pkgutil\n",
    "\n",
    "if 'fibertree' not in [pkg.name for pkg in pkgutil.iter_modules()]:\n",
    "  !python3 -m pip  install git+https://github.com/Fibertree-project/fibertree-bootstrap --quiet\n",
    "  !python3 -m pip  install  git+https://github.com/Fibertree-Project/fibertree --quiet\n",
    "\n",
    "# End - startup boilerplate code\n",
    "\n",
    "from fibertree_bootstrap import *\n",
    "\n",
    "fibertree_bootstrap(style=\"tree\", animation=\"movie\")"
   ]
  },
  {
   "cell_type": "markdown",
   "metadata": {
    "id": "1hM_GIvpoRT7"
   },
   "source": [
    "## Define matrices\n",
    "\n",
    "Here we intialize some tensors that will the used in the examples. The first tensor `A` is a matrix with ranks `K` and `M`. The second tensor is a vector `B` just with rank `K`."
   ]
  },
  {
   "cell_type": "code",
   "execution_count": 2,
   "metadata": {
    "id": "Cm72cD3poRT7"
   },
   "outputs": [],
   "source": [
    "# Define A as a shape (K x M) 2-tensor (matrix)\n",
    "\n",
    "A = [ [5, 4, 3, 1],\n",
    "      [3, 0, 0, 2],\n",
    "      [0, 0, 0, 0],\n",
    "      [4, 1, 0, 4]]\n",
    "\n",
    "# Define B as a shape (K) 1-tensor (vector)\n",
    "\n",
    "B = [ 4, 0, 1, 3 ]\n",
    "\n",
    "# Define the rank shape values\n",
    "\n",
    "M = len(A)\n",
    "K = len(B)"
   ]
  },
  {
   "cell_type": "markdown",
   "metadata": {
    "id": "NMxReIRgoRT7"
   },
   "source": [
    "## Traverse B\n",
    "\n",
    "Perform a simple sum over a vector, which requires a traversal over the vector. This corresponds a traversal over the iteration space (and the computation of the the results) of this Einsum:\n",
    "\n",
    "$$\n",
    "Z = B_k\n",
    "$$"
   ]
  },
  {
   "cell_type": "markdown",
   "metadata": {
    "id": "vILSCv_QoRT7"
   },
   "source": [
    "### Iteration using `range()`\n",
    "\n",
    "First do the traverse the iteration space by iterating over the range of coordinates in `B`. Notice how by convention we name the coordinates with the small letter corresponding to the name of the rank."
   ]
  },
  {
   "cell_type": "code",
   "execution_count": 3,
   "metadata": {
    "colab": {
     "base_uri": "https://localhost:8080/"
    },
    "id": "CUNKZQCDoRT8",
    "outputId": "0dd8d6d9-e527-4233-85a2-d274359c28be"
   },
   "outputs": [
    {
     "name": "stdout",
     "output_type": "stream",
     "text": [
      "k = 0   B[k] = 4\n",
      "k = 1   B[k] = 0\n",
      "k = 2   B[k] = 1\n",
      "k = 3   B[k] = 3\n",
      "\n",
      "z = 8\n"
     ]
    }
   ],
   "source": [
    "z = 0\n",
    "\n",
    "for k in range(K):\n",
    "    print(f\"{k = }   {B[k] = }\")\n",
    "    z += B[k]\n",
    "\n",
    "print(f\"\\n{z = }\")"
   ]
  },
  {
   "cell_type": "markdown",
   "metadata": {
    "id": "9vrsiTBZoRT8"
   },
   "source": [
    "### Iteration using `enumerate()`\n",
    "\n",
    "Traverse the iteration space by interating over an enumeration of the list `B` using the `enumerate()` method. This will return a series of `(coordinate, payload)` tuples. Notice how by convetion we name the leaf payload with the name of the tensor (in lowercase) followed by underscore `val`. Thus the variable `b_val` will hold the values of the elements of the tensor `B`."
   ]
  },
  {
   "cell_type": "code",
   "execution_count": 4,
   "metadata": {
    "colab": {
     "base_uri": "https://localhost:8080/"
    },
    "id": "4nC4BUQ9oRT8",
    "outputId": "8b91cb29-abb2-4fc1-80ea-09b08e717b84"
   },
   "outputs": [
    {
     "name": "stdout",
     "output_type": "stream",
     "text": [
      "k = 0   b_val = 4\n",
      "k = 1   b_val = 0\n",
      "k = 2   b_val = 1\n",
      "k = 3   b_val = 3\n",
      "\n",
      "z = 8\n"
     ]
    }
   ],
   "source": [
    "z = 0\n",
    "\n",
    "for k, b_val in enumerate(B):\n",
    "    print(f\"{k = }   {b_val = }\")\n",
    "    z += b_val\n",
    "\n",
    "print(f\"\\n{z = }\")"
   ]
  },
  {
   "cell_type": "markdown",
   "metadata": {
    "id": "Z5AopIAuoRT8"
   },
   "source": [
    "### Interation using list comprehensions\n",
    "\n",
    "Now traverse the iteration space by interating over series of `(coorinate, payload)` tuples created with a list comprehension"
   ]
  },
  {
   "cell_type": "code",
   "execution_count": 5,
   "metadata": {
    "colab": {
     "base_uri": "https://localhost:8080/"
    },
    "id": "Tyjrm3z7oRT8",
    "outputId": "1a4434c0-64f2-46e0-be25-51b71c0989ed"
   },
   "outputs": [
    {
     "name": "stdout",
     "output_type": "stream",
     "text": [
      "k = 0   b_val = 4\n",
      "k = 1   b_val = 0\n",
      "k = 2   b_val = 1\n",
      "k = 3   b_val = 3\n",
      "\n",
      "z = 8\n"
     ]
    }
   ],
   "source": [
    "z = 0\n",
    "\n",
    "for k, b_val in [ (k, B[k]) for k in range(K)]:\n",
    "    print(f\"{k = }   {b_val = }\")\n",
    "    z += b_val\n",
    "\n",
    "print(f\"\\n{z = }\")"
   ]
  },
  {
   "cell_type": "markdown",
   "metadata": {
    "id": "XsZG2WsGoRT8"
   },
   "source": [
    "## Traverse A\n",
    "\n",
    "Perform a simple sum over a matrix, which requires a traversal over the matrix. This corresponds a traversal over the iteration space (and the computation of the the results) of this Einsum:\n",
    "\n",
    "$$\n",
    "Z = A_{k,m}\n",
    "$$"
   ]
  },
  {
   "cell_type": "markdown",
   "metadata": {
    "id": "whrbsNwvoRT8"
   },
   "source": [
    "### Iteration using `range()`\n",
    "\n",
    "First do the traverse the iteration space by iterating over the two dimensional range of coordinates in `A`"
   ]
  },
  {
   "cell_type": "code",
   "execution_count": 6,
   "metadata": {
    "colab": {
     "base_uri": "https://localhost:8080/"
    },
    "id": "p_F_chIBoRT8",
    "outputId": "3c591406-9f21-4335-a950-685af9f6c7dc"
   },
   "outputs": [
    {
     "name": "stdout",
     "output_type": "stream",
     "text": [
      "(k,m) = (0, 0)  A[k][m] = 5\n",
      "(k,m) = (0, 1)  A[k][m] = 4\n",
      "(k,m) = (0, 2)  A[k][m] = 3\n",
      "(k,m) = (0, 3)  A[k][m] = 1\n",
      "(k,m) = (1, 0)  A[k][m] = 3\n",
      "(k,m) = (1, 1)  A[k][m] = 0\n",
      "(k,m) = (1, 2)  A[k][m] = 0\n",
      "(k,m) = (1, 3)  A[k][m] = 2\n",
      "(k,m) = (2, 0)  A[k][m] = 0\n",
      "(k,m) = (2, 1)  A[k][m] = 0\n",
      "(k,m) = (2, 2)  A[k][m] = 0\n",
      "(k,m) = (2, 3)  A[k][m] = 0\n",
      "(k,m) = (3, 0)  A[k][m] = 4\n",
      "(k,m) = (3, 1)  A[k][m] = 1\n",
      "(k,m) = (3, 2)  A[k][m] = 0\n",
      "(k,m) = (3, 3)  A[k][m] = 4\n",
      "\n",
      "z = 27\n"
     ]
    }
   ],
   "source": [
    "z = 0\n",
    "\n",
    "for k in range(K):\n",
    "    for m in range(M):\n",
    "        print(f\"{(k,m) = }  {A[k][m] = }\")\n",
    "        z += A[k][m]\n",
    "\n",
    "print(f\"\\n{z = }\")"
   ]
  },
  {
   "cell_type": "markdown",
   "metadata": {
    "id": "zna0ZGH8oRT8"
   },
   "source": [
    "### Iteration using `enumerate()`\n",
    "\n",
    "Traverse the iteration space by iterating over elements of the ranks of the matrix `A` using the `enumerate()` method. This will return a nested series of `(coordinate, payload)` tuples, where in the outer loop the payload is a vector and in the inner loop it is a value. When the payload is not a scalar value, it will always be a fiber. So we use a convention of naming the payload variable that is a reference to that fiber \"\\<tensor-name>_\\<rank_name>\". So the payload variable in the outer loop is `a_m`."
   ]
  },
  {
   "cell_type": "code",
   "execution_count": 7,
   "metadata": {
    "colab": {
     "base_uri": "https://localhost:8080/"
    },
    "id": "O1VlbSWBoRT9",
    "outputId": "b9dbe196-3b8d-424d-cd27-964b396df74c"
   },
   "outputs": [
    {
     "name": "stdout",
     "output_type": "stream",
     "text": [
      "(k,m) = (0, 0)  a_val = 5\n",
      "(k,m) = (0, 1)  a_val = 4\n",
      "(k,m) = (0, 2)  a_val = 3\n",
      "(k,m) = (0, 3)  a_val = 1\n",
      "(k,m) = (1, 0)  a_val = 3\n",
      "(k,m) = (1, 1)  a_val = 0\n",
      "(k,m) = (1, 2)  a_val = 0\n",
      "(k,m) = (1, 3)  a_val = 2\n",
      "(k,m) = (2, 0)  a_val = 0\n",
      "(k,m) = (2, 1)  a_val = 0\n",
      "(k,m) = (2, 2)  a_val = 0\n",
      "(k,m) = (2, 3)  a_val = 0\n",
      "(k,m) = (3, 0)  a_val = 4\n",
      "(k,m) = (3, 1)  a_val = 1\n",
      "(k,m) = (3, 2)  a_val = 0\n",
      "(k,m) = (3, 3)  a_val = 4\n",
      "\n",
      "z = 27\n"
     ]
    }
   ],
   "source": [
    "z = 0\n",
    "\n",
    "for k, a_m in enumerate(A):\n",
    "    for m, a_val in enumerate(a_m):\n",
    "        print(f\"{(k,m) = }  {a_val = }\")\n",
    "        z += a_val\n",
    "\n",
    "print(f\"\\n{z = }\")"
   ]
  },
  {
   "cell_type": "markdown",
   "metadata": {
    "id": "kAMYUw9UoRT9"
   },
   "source": [
    "### Interation using list comprehensions\n",
    "\n",
    "Now traverse the iteration space by interating over series of (coorinate, payload) tuples created with a nested set of list comprehensions"
   ]
  },
  {
   "cell_type": "code",
   "execution_count": 8,
   "metadata": {
    "colab": {
     "base_uri": "https://localhost:8080/"
    },
    "id": "qPFlDwVIoRT9",
    "outputId": "81d10135-8be0-4363-eaf9-5b1c900bf3a8"
   },
   "outputs": [
    {
     "name": "stdout",
     "output_type": "stream",
     "text": [
      "(k,m) = (0, 0)  a_val = 5\n",
      "(k,m) = (0, 1)  a_val = 4\n",
      "(k,m) = (0, 2)  a_val = 3\n",
      "(k,m) = (0, 3)  a_val = 1\n",
      "(k,m) = (1, 0)  a_val = 3\n",
      "(k,m) = (1, 1)  a_val = 0\n",
      "(k,m) = (1, 2)  a_val = 0\n",
      "(k,m) = (1, 3)  a_val = 2\n",
      "(k,m) = (2, 0)  a_val = 0\n",
      "(k,m) = (2, 1)  a_val = 0\n",
      "(k,m) = (2, 2)  a_val = 0\n",
      "(k,m) = (2, 3)  a_val = 0\n",
      "(k,m) = (3, 0)  a_val = 4\n",
      "(k,m) = (3, 1)  a_val = 1\n",
      "(k,m) = (3, 2)  a_val = 0\n",
      "(k,m) = (3, 3)  a_val = 4\n",
      "\n",
      "z = 27\n"
     ]
    }
   ],
   "source": [
    "z = 0\n",
    "\n",
    "for k, a_m in [(k, A[k]) for k in range(K)]:\n",
    "    for m, a_val in [(m, a_m[m]) for m in range(M)]:\n",
    "        print(f\"{(k,m) = }  {a_val = }\")\n",
    "        z += a_val\n",
    "\n",
    "print(f\"\\n{z = }\")"
   ]
  },
  {
   "cell_type": "markdown",
   "metadata": {
    "id": "blUUN7EYoRT9"
   },
   "source": [
    "### Interation using **filtered** list comprehensions\n",
    "\n",
    "Noting that we do not need to do any work when the payload at a `k` coordinate is empty (either the row of A is empty or the value of B is zero)\n",
    "Thus, we can filter out those cases in the list comprehension."
   ]
  },
  {
   "cell_type": "code",
   "execution_count": 9,
   "metadata": {
    "colab": {
     "base_uri": "https://localhost:8080/"
    },
    "id": "vkKez25FoRT9",
    "outputId": "c185241f-1b9b-40de-d667-9a4c1b6518db"
   },
   "outputs": [
    {
     "name": "stdout",
     "output_type": "stream",
     "text": [
      "(k,m) = (0, 0)  a_val = 5\n",
      "(k,m) = (0, 1)  a_val = 4\n",
      "(k,m) = (0, 2)  a_val = 3\n",
      "(k,m) = (0, 3)  a_val = 1\n",
      "(k,m) = (1, 0)  a_val = 3\n",
      "(k,m) = (1, 3)  a_val = 2\n",
      "(k,m) = (3, 0)  a_val = 4\n",
      "(k,m) = (3, 1)  a_val = 1\n",
      "(k,m) = (3, 3)  a_val = 4\n",
      "\n",
      "z = 27\n"
     ]
    }
   ],
   "source": [
    "z = 0\n",
    "\n",
    "for k, a_m in [(k, A[k]) for k in range(K) if A[k].count(0) != K]:\n",
    "    for m, a_val in [(m, a_m[m]) for m in range(M) if a_m[m] != 0]:\n",
    "        print(f\"{(k,m) = }  {a_val = }\")\n",
    "        z += a_val\n",
    "\n",
    "print(f\"\\n{z = }\")"
   ]
  },
  {
   "cell_type": "markdown",
   "metadata": {
    "id": "wzUILdV4oRT9"
   },
   "source": [
    "## Multi-tensor calculation\n",
    "\n",
    "Now we are going to do a multi-tensor calculation that includes some dot products as part of our computation. In specific, we calculate the following Einsum:\n",
    "\n",
    "$$\n",
    "Z = A_{k,m} \\times B_{k}\n",
    "$$"
   ]
  },
  {
   "cell_type": "markdown",
   "metadata": {
    "id": "cXWsxoxjoRT9"
   },
   "source": [
    "### Iteration using `range()`"
   ]
  },
  {
   "cell_type": "code",
   "execution_count": 10,
   "metadata": {
    "colab": {
     "base_uri": "https://localhost:8080/"
    },
    "id": "_q0eb434oRT9",
    "outputId": "1041bfed-6c8d-436d-90ad-c6931130691b"
   },
   "outputs": [
    {
     "name": "stdout",
     "output_type": "stream",
     "text": [
      "(k,m) = (0, 0)  A[k][m] = 5 B[k] = 4\n",
      "(k,m) = (0, 1)  A[k][m] = 4 B[k] = 4\n",
      "(k,m) = (0, 2)  A[k][m] = 3 B[k] = 4\n",
      "(k,m) = (0, 3)  A[k][m] = 1 B[k] = 4\n",
      "(k,m) = (1, 0)  A[k][m] = 3 B[k] = 0\n",
      "(k,m) = (1, 1)  A[k][m] = 0 B[k] = 0\n",
      "(k,m) = (1, 2)  A[k][m] = 0 B[k] = 0\n",
      "(k,m) = (1, 3)  A[k][m] = 2 B[k] = 0\n",
      "(k,m) = (2, 0)  A[k][m] = 0 B[k] = 1\n",
      "(k,m) = (2, 1)  A[k][m] = 0 B[k] = 1\n",
      "(k,m) = (2, 2)  A[k][m] = 0 B[k] = 1\n",
      "(k,m) = (2, 3)  A[k][m] = 0 B[k] = 1\n",
      "(k,m) = (3, 0)  A[k][m] = 4 B[k] = 3\n",
      "(k,m) = (3, 1)  A[k][m] = 1 B[k] = 3\n",
      "(k,m) = (3, 2)  A[k][m] = 0 B[k] = 3\n",
      "(k,m) = (3, 3)  A[k][m] = 4 B[k] = 3\n",
      "\n",
      "z = 79\n"
     ]
    }
   ],
   "source": [
    "z = 0\n",
    "\n",
    "for k in range(K):\n",
    "    for m in range(M):\n",
    "        print(f\"{(k,m) = }  {A[k][m] = } {B[k] = }\")\n",
    "        z += A[k][m] * B[k]\n",
    "\n",
    "print(f\"\\n{z = }\")"
   ]
  },
  {
   "cell_type": "markdown",
   "metadata": {
    "id": "UBamIez2oRT9"
   },
   "source": [
    "### Iteration using `enumerate()`\n",
    "\n",
    "Again we have two nested loops to traverse the iteration space. Notice, however, how in this calucalation we need to concurrently traverse both the `A` and `B` tensors. To accomplish this we use the `zip()` method. Note further that in the pair of payloads returned one value is a reference to a fiber (`a_m`) and the other is a leaf value (`b_val`)"
   ]
  },
  {
   "cell_type": "code",
   "execution_count": 11,
   "metadata": {
    "colab": {
     "base_uri": "https://localhost:8080/"
    },
    "id": "JKLc-0qKoRT9",
    "outputId": "95f99ecb-645c-435f-b670-1db3e2eb4bbc"
   },
   "outputs": [
    {
     "name": "stdout",
     "output_type": "stream",
     "text": [
      "(k,m) = (0, 0)  a_val = 5 b_val = 4\n",
      "(k,m) = (0, 1)  a_val = 4 b_val = 4\n",
      "(k,m) = (0, 2)  a_val = 3 b_val = 4\n",
      "(k,m) = (0, 3)  a_val = 1 b_val = 4\n",
      "(k,m) = (1, 0)  a_val = 3 b_val = 0\n",
      "(k,m) = (1, 1)  a_val = 0 b_val = 0\n",
      "(k,m) = (1, 2)  a_val = 0 b_val = 0\n",
      "(k,m) = (1, 3)  a_val = 2 b_val = 0\n",
      "(k,m) = (2, 0)  a_val = 0 b_val = 1\n",
      "(k,m) = (2, 1)  a_val = 0 b_val = 1\n",
      "(k,m) = (2, 2)  a_val = 0 b_val = 1\n",
      "(k,m) = (2, 3)  a_val = 0 b_val = 1\n",
      "(k,m) = (3, 0)  a_val = 4 b_val = 3\n",
      "(k,m) = (3, 1)  a_val = 1 b_val = 3\n",
      "(k,m) = (3, 2)  a_val = 0 b_val = 3\n",
      "(k,m) = (3, 3)  a_val = 4 b_val = 3\n",
      "\n",
      "z = 79\n"
     ]
    }
   ],
   "source": [
    "z = 0\n",
    "\n",
    "for k, (a_m, b_val) in enumerate(zip(A, B)):\n",
    "    for m, a_val in enumerate(a_m):\n",
    "        print(f\"{(k,m) = }  {a_val = } {b_val = }\")\n",
    "        z += a_val * b_val\n",
    "\n",
    "print(f\"\\n{z = }\")"
   ]
  },
  {
   "cell_type": "markdown",
   "metadata": {
    "id": "iF8vTj0loRT9"
   },
   "source": [
    "### Iteration using list comprehensions\n",
    "\n",
    "Now we do the traversal using list comprehensions."
   ]
  },
  {
   "cell_type": "code",
   "execution_count": 12,
   "metadata": {
    "colab": {
     "base_uri": "https://localhost:8080/"
    },
    "id": "vYHAuS5_oRT9",
    "outputId": "07120f1e-b80d-4d52-febc-661ebd48f449"
   },
   "outputs": [
    {
     "name": "stdout",
     "output_type": "stream",
     "text": [
      "(k,m) = (0, 0)  a_val = 5 b_val = 4\n",
      "(k,m) = (0, 1)  a_val = 4 b_val = 4\n",
      "(k,m) = (0, 2)  a_val = 3 b_val = 4\n",
      "(k,m) = (0, 3)  a_val = 1 b_val = 4\n",
      "(k,m) = (1, 0)  a_val = 3 b_val = 0\n",
      "(k,m) = (1, 1)  a_val = 0 b_val = 0\n",
      "(k,m) = (1, 2)  a_val = 0 b_val = 0\n",
      "(k,m) = (1, 3)  a_val = 2 b_val = 0\n",
      "(k,m) = (2, 0)  a_val = 0 b_val = 1\n",
      "(k,m) = (2, 1)  a_val = 0 b_val = 1\n",
      "(k,m) = (2, 2)  a_val = 0 b_val = 1\n",
      "(k,m) = (2, 3)  a_val = 0 b_val = 1\n",
      "(k,m) = (3, 0)  a_val = 4 b_val = 3\n",
      "(k,m) = (3, 1)  a_val = 1 b_val = 3\n",
      "(k,m) = (3, 2)  a_val = 0 b_val = 3\n",
      "(k,m) = (3, 3)  a_val = 4 b_val = 3\n",
      "\n",
      "z = 79\n"
     ]
    }
   ],
   "source": [
    "z = 0\n",
    "\n",
    "for k, (a_m, b_val) in [(k, (A[k], B[k])) for k in range(K)]:\n",
    "    for m, a_val in [(m, a_m[m]) for m in range(M)]:\n",
    "        print(f\"{(k,m) = }  {a_val = } {b_val = }\")\n",
    "        z += a_val * b_val\n",
    "\n",
    "print(f\"\\n{z = }\")"
   ]
  },
  {
   "cell_type": "markdown",
   "metadata": {
    "id": "wP5rQ88woRT9"
   },
   "source": [
    "### Filtered List Comprehension\n",
    "\n",
    "Noting that we do not need to do any work when the payload at a `k` coordinate is empty (either the row of A is empty or the value of B is zero)\n",
    "Thus, we can filter out those cases in the list comprehension. We also filter out payloads of individual elements of `A` that are zero at a specific `m` coordinate."
   ]
  },
  {
   "cell_type": "code",
   "execution_count": 13,
   "metadata": {
    "colab": {
     "base_uri": "https://localhost:8080/"
    },
    "id": "euMwP6IGoRT9",
    "outputId": "2eecc8f0-b058-445a-b50c-ce1fbcaf77de"
   },
   "outputs": [
    {
     "name": "stdout",
     "output_type": "stream",
     "text": [
      "(k,m) = (0, 0)  a_val = 5 b_val = 4\n",
      "(k,m) = (0, 1)  a_val = 4 b_val = 4\n",
      "(k,m) = (0, 2)  a_val = 3 b_val = 4\n",
      "(k,m) = (0, 3)  a_val = 1 b_val = 4\n",
      "(k,m) = (3, 0)  a_val = 4 b_val = 3\n",
      "(k,m) = (3, 1)  a_val = 1 b_val = 3\n",
      "(k,m) = (3, 2)  a_val = 0 b_val = 3\n",
      "(k,m) = (3, 3)  a_val = 4 b_val = 3\n",
      "\n",
      "z = 79\n"
     ]
    }
   ],
   "source": [
    "z = 0\n",
    "\n",
    "for k, (a_m, b_val) in [(k, (A[k], B[k])) for k in range(K) if A[k].count(0) != K and B[k] != 0]:\n",
    "    for m, a_val in [(m, a_m[m]) for m in range(M) if A[m] != 0]:\n",
    "        print(f\"{(k,m) = }  {a_val = } {b_val = }\")\n",
    "        z += a_val * b_val\n",
    "\n",
    "print(f\"\\n{z = }\")"
   ]
  },
  {
   "cell_type": "markdown",
   "metadata": {
    "id": "XBGATm8poRT9"
   },
   "source": [
    "## Fibertree-based multi-tensor computation\n",
    "\n",
    "We will now perform the same computation $Z = A_{k,m} \\times B_k$ using fibertree code"
   ]
  },
  {
   "cell_type": "markdown",
   "metadata": {
    "id": "zkr93WZRoRT9"
   },
   "source": [
    "## Create Fibertree Input Tensors\n",
    "\n",
    "Create fibertree instances of the `A` and `B` tensors with the same values are the original Python uncompressed arrays. Note that the tensors are sparse.\n"
   ]
  },
  {
   "cell_type": "code",
   "execution_count": 16,
   "metadata": {
    "colab": {
     "base_uri": "https://localhost:8080/",
     "height": 642
    },
    "id": "UPO_MdokoRT9",
    "outputId": "03481a07-654a-4b2b-9697-15d0461c1f1a"
   },
   "outputs": [
    {
     "data": {
      "image/jpeg": "[encoded data removed]",
      "image/png": "[encoded data removed]",
      "text/plain": [
       "<PIL.Image.Image image mode=RGB size=1120x330>"
      ]
     },
     "metadata": {},
     "output_type": "display_data"
    },
    {
     "name": "stdout",
     "output_type": "stream",
     "text": [
      "\n"
     ]
    },
    {
     "data": {
      "image/jpeg": "[encoded data removed]",
      "image/png": "[encoded data removed]",
      "text/plain": [
       "<PIL.Image.Image image mode=RGB size=640x250>"
      ]
     },
     "metadata": {},
     "output_type": "display_data"
    }
   ],
   "source": [
    "AF = Tensor.fromUncompressed(name=\"A\", rank_ids=[\"K\", \"M\"],  root=A, color=\"blue\")\n",
    "BF = Tensor.fromUncompressed(name=\"B\", rank_ids=[\"K\"], root=B, color=\"green\")\n",
    "\n",
    "displayTensor(AF)\n",
    "print()\n",
    "displayTensor(BF)"
   ]
  },
  {
   "cell_type": "markdown",
   "metadata": {
    "id": "C_4bX0FNoRT9"
   },
   "source": [
    "### Fibertree compution\n",
    "\n",
    "Below is the fibree code for the computation. This has the following step:\n",
    "\n",
    "- Create an empty 0-tensor for the result `Z`.\n",
    "- Obtain the **root**s of each of the fibertrees. Note how for `A` and `B` they are fibers of the respective tensors, i.e., have names of the form \"\\<tensor-name>_\\<rank-name>\"\n",
    "- In the outer loop, do the simultaneous traversal of the fibers from the `A` and `B` tensors.\n",
    "  - Note that the results of the traversals of the top ranks of `A` and `B` deliver payloads that are a fiber and a scalar value, respectively\n",
    "  - Note further how the intersection (&) does the filtering of cases when either a fiber of `A` is empty or a value of `B` is empty for each `k` coordinate\n",
    "- In the inner loop, just do the traversal of an `m` fiber of `A`"
   ]
  },
  {
   "cell_type": "code",
   "execution_count": 17,
   "metadata": {
    "colab": {
     "base_uri": "https://localhost:8080/",
     "height": 406
    },
    "id": "GtNQjfj2oRT9",
    "outputId": "f9aef02d-d258-4600-8021-fca4aa25a945"
   },
   "outputs": [
    {
     "name": "stdout",
     "output_type": "stream",
     "text": [
      "(k,m) = (0, 0)  a_val = Payload(5) b_val = Payload(4)\n",
      "(k,m) = (0, 1)  a_val = Payload(4) b_val = Payload(4)\n",
      "(k,m) = (0, 2)  a_val = Payload(3) b_val = Payload(4)\n",
      "(k,m) = (0, 3)  a_val = Payload(1) b_val = Payload(4)\n",
      "(k,m) = (3, 0)  a_val = Payload(4) b_val = Payload(3)\n",
      "(k,m) = (3, 1)  a_val = Payload(1) b_val = Payload(3)\n",
      "(k,m) = (3, 3)  a_val = Payload(4) b_val = Payload(3)\n",
      "\n"
     ]
    },
    {
     "data": {
      "image/jpeg": "[encoded data removed]",
      "image/png": "[encoded data removed]",
      "text/plain": [
       "<PIL.Image.Image image mode=RGB size=480x170>"
      ]
     },
     "metadata": {},
     "output_type": "display_data"
    }
   ],
   "source": [
    "ZF = Tensor(name=\"Z\", rank_ids=[])\n",
    "\n",
    "a_k = AF.getRoot()\n",
    "b_k = BF.getRoot()\n",
    "\n",
    "z_ref = ZF.getRoot()\n",
    "\n",
    "for k, (a_m, b_val) in a_k & b_k:\n",
    "    for m, a_val in a_m:\n",
    "        print(f\"{(k,m) = }  {a_val = } {b_val = }\")\n",
    "        z_ref += a_val * b_val\n",
    "\n",
    "print(\"\")\n",
    "displayTensor(ZF)"
   ]
  },
  {
   "cell_type": "code",
   "execution_count": 18,
   "metadata": {
    "colab": {
     "base_uri": "https://localhost:8080/",
     "height": 1000,
     "referenced_widgets": [
      "352554ff6b1241aaa5acab0c8857e82b",
      "555dfe8687b9415fbdf181c36c6130f3",
      "aa38caa659124698b269ea11959f00d5",
      "1d090888fb7a4f2bab1caf14beefe1ce",
      "7030d91c8c9d40269a4128dc1f2ee820",
      "a1339e6d977f43e6abb93ada1e7f70b7",
      "150cb41b8b6c418cb6cdfe8da90f68e5",
      "0401cb72bda545a283f3d5a07a43de88",
      "91ea86c972f54f2b82b4bc2b6b944208",
      "cab137ecd1454fbcbe15ac16017b1415",
      "bf20efbd3a944b039677ba87b5168ad1"
     ]
    },
    "id": "S1LQISBJoRT-",
    "outputId": "214edb45-473d-4f00-8eb6-9fc1270490dd"
   },
   "outputs": [
    {
     "name": "stdout",
     "output_type": "stream",
     "text": [
      "Starting simulation\n",
      "(k, m) = (0, 0)  a_val = Payload(5) b_val = Payload(4)\n",
      "(k, m) = (0, 1)  a_val = Payload(4) b_val = Payload(4)\n",
      "(k, m) = (0, 2)  a_val = Payload(3) b_val = Payload(4)\n",
      "(k, m) = (0, 3)  a_val = Payload(1) b_val = Payload(4)\n",
      "(k, m) = (3, 0)  a_val = Payload(4) b_val = Payload(3)\n",
      "(k, m) = (3, 1)  a_val = Payload(1) b_val = Payload(3)\n",
      "(k, m) = (3, 3)  a_val = Payload(4) b_val = Payload(3)\n",
      "\n",
      "Finished simulation\n"
     ]
    },
    {
     "data": {
      "application/vnd.jupyter.widget-view+json": {
       "model_id": "352554ff6b1241aaa5acab0c8857e82b",
       "version_major": 2,
       "version_minor": 0
      },
      "text/plain": [
       "Create individual tensor images for each cycle: 0it [00:00, ?it/s]"
      ]
     },
     "metadata": {},
     "output_type": "display_data"
    },
    {
     "data": {
      "text/html": [
       "<video width=800  loop autoplay controls><source src=\"data:video/mp4;base64,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\"></video>"
      ],
      "text/plain": [
       "<IPython.core.display.HTML object>"
      ]
     },
     "metadata": {},
     "output_type": "display_data"
    }
   ],
   "source": [
    "ZF = Tensor(name=\"Z\", rank_ids=[])\n",
    "\n",
    "z_ref = ZF.getRoot()\n",
    "\n",
    "canvas = createCanvas(AF, BF, ZF)\n",
    "\n",
    "for k, (a_m, b_val) in a_k & b_k:\n",
    "    for m, a_val in a_m:\n",
    "        z_ref += a_val * b_val\n",
    "        print(f\"{(k, m) = }  {a_val = } {b_val = }\")\n",
    "\n",
    "        canvas.addActivity((k,m), (k,), (0,))\n",
    "\n",
    "print(\"\")\n",
    "displayCanvas(canvas)"
   ]
  },
  {
   "cell_type": "markdown",
   "metadata": {
    "id": "Dw1CllGiXvpl"
   },
   "source": [
    "## Populate operator\n",
    "\n",
    "A different type of co-iteration is one that mutates an output fiber by adding nonzero values into it based on the occupancy of another fiber. We refer to this as \"populating\" the fiber, and implement it with the << operator in Python.\n",
    "\n",
    "Specifically the operator \"z_m << a_m\" returns values of the form:\n",
    "\n",
    "```(m_coord, (z_ref, a_val)) ```\n",
    "\n",
    "where m_coord is the current coordinate in m (as with intersection), a_val is the next value in a_m, and z_ref is a mutable reference to the value at that coordinate in Z. If that coordinate already existed, it will have the current value. Otherwise, it will be created with the tensor's default value (usually 0)\n",
    "\n",
    "We can demonstrate this by changing the operation to be Matrix-Vector multiplication, represented by the following Einsum:\n",
    "\n",
    "$$Z_m = A_{m,k} * B_k$$"
   ]
  },
  {
   "cell_type": "markdown",
   "metadata": {
    "id": "aOSCddevZ7lG"
   },
   "source": []
  },
  {
   "cell_type": "code",
   "execution_count": 19,
   "metadata": {
    "colab": {
     "base_uri": "https://localhost:8080/",
     "height": 1000,
     "referenced_widgets": [
      "aa4f0ae4303b4258910630dda4cdb957",
      "9a304c68f2f144deb3f24529cf56049d",
      "30cda269dc5c45078f340ffd130e9d93",
      "e1463bc89e5c446b8c7212dcd3a653b0",
      "c0daf7403b3d4b60a93539c1aa8a961d",
      "71d4d028f03946eb95eab06b223147c5",
      "8a022553be864e7d8fb4b7d678548f51",
      "134bf93468324e2aa5151d51143ad2b0",
      "82fbe93f35204d5c9e875c338596c232",
      "4ce358882caa46b28ec2b8500d14d1f1",
      "66bc823266ec49eea493fc0d930f2387"
     ]
    },
    "id": "0aPUxhnQXu0T",
    "outputId": "647e2c58-9790-43a8-a84b-376832592838"
   },
   "outputs": [
    {
     "name": "stdout",
     "output_type": "stream",
     "text": [
      "Starting simulation\n",
      "(k,m) = (0, 0)  z_ref = Payload(20) a_val = Payload(5) b_val = Payload(4)\n",
      "(k,m) = (0, 1)  z_ref = Payload(16) a_val = Payload(4) b_val = Payload(4)\n",
      "(k,m) = (0, 2)  z_ref = Payload(12) a_val = Payload(3) b_val = Payload(4)\n",
      "(k,m) = (0, 3)  z_ref = Payload(4) a_val = Payload(1) b_val = Payload(4)\n",
      "(k,m) = (3, 0)  z_ref = Payload(32) a_val = Payload(4) b_val = Payload(3)\n",
      "(k,m) = (3, 1)  z_ref = Payload(19) a_val = Payload(1) b_val = Payload(3)\n",
      "(k,m) = (3, 3)  z_ref = Payload(16) a_val = Payload(4) b_val = Payload(3)\n",
      "\n",
      "Finished simulation\n"
     ]
    },
    {
     "data": {
      "application/vnd.jupyter.widget-view+json": {
       "model_id": "aa4f0ae4303b4258910630dda4cdb957",
       "version_major": 2,
       "version_minor": 0
      },
      "text/plain": [
       "Create individual tensor images for each cycle: 0it [00:00, ?it/s]"
      ]
     },
     "metadata": {},
     "output_type": "display_data"
    },
    {
     "data": {
      "text/html": [
       "<video width=800  loop autoplay controls><source src=\"data:video/mp4;base64,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\"></video>"
      ],
      "text/plain": [
       "<IPython.core.display.HTML object>"
      ]
     },
     "metadata": {},
     "output_type": "display_data"
    }
   ],
   "source": [
    "Z = Tensor(name=\"Z\", rank_ids=[\"M\"])\n",
    "\n",
    "z_m = Z.getRoot()\n",
    "\n",
    "canvas = createCanvas(AF, BF, Z)\n",
    "\n",
    "for k, (a_m, b_val) in a_k & b_k:\n",
    "    for (m, (z_ref, a_val)) in z_m << a_m:\n",
    "        z_ref += a_val * b_val\n",
    "        print(f\"{(k,m) = }  {z_ref = } {a_val = } {b_val = }\")\n",
    "\n",
    "        canvas.addActivity((k,m), (k,), (m,))\n",
    "\n",
    "print(\"\")\n",
    "displayCanvas(canvas)"
   ]
  },
  {
   "cell_type": "markdown",
   "metadata": {
    "id": "ADJ7TqaNZ_jC"
   },
   "source": [
    "## Composing Co-iteration Operators\n",
    "\n",
    "As all binary co-iteration operators return a new fiber, we can compose them in interesting ways to represent tensor algebra. For example, the elementwise multpilication Einsum is:\n",
    "\n",
    "$$ Z_m = A_m * B_m $$\n",
    "\n",
    "This involves both intersecting A and B and populating the corresponding coordinates of Z, which we can perform by composing the result of an intersection with a populate, as follows:\n",
    "\n",
    "```Z_m << (A_m & B_m)```\n",
    "\n",
    "As each operator returns an enumeration tuple, this would normally provide nested tuples with redundant coordinates, of the form:\n",
    "\n",
    "```(m, (z_ref, (m_redundant, (a_val, b_val)))```\n",
    "\n",
    "For convenience, fibertree removes these redundant coordinates and only returns the original, as follows:\n",
    "\n",
    "```(m, (z_ref, (a_val, b_val)))```\n",
    "\n",
    "We can put all this together in the following complete example.\n"
   ]
  },
  {
   "cell_type": "code",
   "execution_count": 17,
   "metadata": {
    "colab": {
     "base_uri": "https://localhost:8080/",
     "height": 1000,
     "referenced_widgets": [
      "1cdde8ac64754506a70a25206510eeec",
      "bb2506d5d9ac43ab97450321a624050f",
      "bdf718d74313425bab335801d49982ea",
      "4231dc4d93154e15b2ed9028eb348625",
      "c8173bf038794c828ab11685aa5e9b59",
      "ff55321d8cc7405eaf2f2a37092432cc",
      "f48daf93a4c84f338c9625f9f6ec1c14",
      "9d43524f1de742dea2bf5c9753a82c09",
      "db0f380abc9e4b36a5bf5ac20744e32c",
      "c2741647afb4465883f4c2bfb7d2f710",
      "4c6f215564b843acbdb90ba1fc8f645b"
     ]
    },
    "id": "XvNQqowbbUEB",
    "outputId": "7f38d26d-f75f-486f-9235-84afd8ab0999"
   },
   "outputs": [
    {
     "name": "stdout",
     "output_type": "stream",
     "text": [
      "Starting simulation\n",
      "(m) = 2  z_ref = Payload(68) a_val = Payload(2) b_val = Payload(34)\n",
      "(m) = 4  z_ref = Payload(272) a_val = Payload(4) b_val = Payload(68)\n",
      "\n",
      "Finished simulation\n"
     ]
    },
    {
     "data": {
      "application/vnd.jupyter.widget-view+json": {
       "model_id": "625fdcafc8444d1bb7649e88b0c6772a",
       "version_major": 2,
       "version_minor": 0
      },
      "text/plain": [
       "Create individual tensor images for each cycle: 0it [00:00, ?it/s]"
      ]
     },
     "metadata": {},
     "output_type": "display_data"
    },
    {
     "data": {
      "application/vnd.jupyter.widget-view+json": {
       "model_id": "aba7974874aa477494df9042c53f34c4",
       "version_major": 2,
       "version_minor": 0
      },
      "text/plain": [
       "Paste individual tensor images into frame for each cycle:   0%|          | 0/4 [00:00<?, ?it/s]"
      ]
     },
     "metadata": {},
     "output_type": "display_data"
    },
    {
     "data": {
      "application/vnd.jupyter.widget-view+json": {
       "model_id": "2ca4c355b1884019a925222133a6f5ee",
       "version_major": 2,
       "version_minor": 0
      },
      "text/plain": [
       "Render video frame for each cycle:   0%|          | 0/4 [00:00<?, ?it/s]"
      ]
     },
     "metadata": {},
     "output_type": "display_data"
    },
    {
     "data": {
      "text/html": [
       "<video src=\"./tmp/2025.05.12_025012.xrWhePNSUg.mp4\"  loop autoplay controls  width=\"800\" >\n",
       "      Your browser does not support the <code>video</code> element.\n",
       "    </video>"
      ],
      "text/plain": [
       "<IPython.core.display.Video object>"
      ]
     },
     "metadata": {},
     "output_type": "display_data"
    }
   ],
   "source": [
    "Z = Tensor(name=\"Z\", rank_ids=[\"M\"])\n",
    "A2 = [0,0,2,0,4,0,6,7]\n",
    "A2F = Tensor.fromUncompressed(name=\"A\", rank_ids=[\"M\"],  root=A2, color=\"blue\")\n",
    "B2 = [0,17,34,0,68]\n",
    "B2F = Tensor.fromUncompressed(name=\"B\", rank_ids=[\"M\"], root=B2, color=\"green\")\n",
    "\n",
    "\n",
    "a_m = A2F.getRoot()\n",
    "b_m = B2F.getRoot()\n",
    "z_m = Z.getRoot()\n",
    "\n",
    "canvas = createCanvas(A2F, B2F, Z)\n",
    "\n",
    "for (m, (z_ref, (a_val, b_val))) in z_m << (a_m & b_m):\n",
    "    z_ref += a_val * b_val\n",
    "    print(f\"{(m) = }  {z_ref = } {a_val = } {b_val = }\")\n",
    "\n",
    "    canvas.addActivity((m), (m,), (m,))\n",
    "\n",
    "print(\"\")\n",
    "displayCanvas(canvas)\n"
   ]
  },
  {
   "cell_type": "markdown",
   "metadata": {
    "id": "N-9FgW3EoRT-"
   },
   "source": [
    "## Testing area\n",
    "\n",
    "For running alternative algorithms"
   ]
  },
  {
   "cell_type": "code",
   "execution_count": 18,
   "metadata": {
    "id": "UV44nu5MoRT-"
   },
   "outputs": [
    {
     "name": "stdout",
     "output_type": "stream",
     "text": [
      "Starting simulation\n",
      "Finished simulation\n"
     ]
    },
    {
     "data": {
      "application/vnd.jupyter.widget-view+json": {
       "model_id": "fcf19317ab15473da3d3772df9e18c2e",
       "version_major": 2,
       "version_minor": 0
      },
      "text/plain": [
       "Create individual tensor images for each cycle: 0it [00:00, ?it/s]"
      ]
     },
     "metadata": {},
     "output_type": "display_data"
    },
    {
     "data": {
      "application/vnd.jupyter.widget-view+json": {
       "model_id": "bc9a17109814444eb8399c165beb9587",
       "version_major": 2,
       "version_minor": 0
      },
      "text/plain": [
       "Paste individual tensor images into frame for each cycle:   0%|          | 0/146 [00:00<?, ?it/s]"
      ]
     },
     "metadata": {},
     "output_type": "display_data"
    },
    {
     "data": {
      "application/vnd.jupyter.widget-view+json": {
       "model_id": "2903870814fc4c6f831d5969bd6056b2",
       "version_major": 2,
       "version_minor": 0
      },
      "text/plain": [
       "Render video frame for each cycle:   0%|          | 0/146 [00:00<?, ?it/s]"
      ]
     },
     "metadata": {},
     "output_type": "display_data"
    },
    {
     "data": {
      "text/html": [
       "<video src=\"./tmp/2025.05.12_030746.EJGpRhTnGQ.mp4\"  loop autoplay controls  width=\"800\" >\n",
       "      Your browser does not support the <code>video</code> element.\n",
       "    </video>"
      ],
      "text/plain": [
       "<IPython.core.display.Video object>"
      ]
     },
     "metadata": {},
     "output_type": "display_data"
    }
   ],
   "source": [
    "# Parameters\n",
    "input_size = 6\n",
    "kernel_size = 3\n",
    "stride = 1  # Try 2 for stride 2\n",
    "\n",
    "# Input\n",
    "input_vals = [[y * input_size + x + 1 for x in range(input_size)] for y in range(input_size)]\n",
    "input_tensor = Tensor.fromUncompressed(name=\"Input\", rank_ids=[\"Y\", \"X\"], root=input_vals, color=\"blue\")\n",
    "\n",
    "# Kernel\n",
    "kernel_vals = [[1 for _ in range(kernel_size)] for _ in range(kernel_size)]\n",
    "kernel_tensor = Tensor.fromUncompressed(name=\"Kernel\", rank_ids=[\"dY\", \"dX\"], root=kernel_vals, color=\"green\")\n",
    "\n",
    "# Output tensor\n",
    "output_tensor = Tensor(name=\"Output\", rank_ids=[\"Y\", \"X\"], color=\"red\")\n",
    "\n",
    "# Roots\n",
    "in_root = input_tensor.getRoot()\n",
    "ker_root = kernel_tensor.getRoot()\n",
    "out_root = output_tensor.getRoot()\n",
    "\n",
    "# Canvas\n",
    "canvas = createCanvas(input_tensor, kernel_tensor, output_tensor)\n",
    "\n",
    "# Output size\n",
    "output_size = (input_size - kernel_size) // stride + 1\n",
    "\n",
    "# Convolution loop\n",
    "for oy in range(output_size):\n",
    "    # Append row fiber for output\n",
    "    output_row = Fiber()\n",
    "    for ox in range(output_size):\n",
    "        acc = 0\n",
    "        for dy, ker_row in ker_root:\n",
    "            for dx, k_val in ker_row:\n",
    "                iy = oy * stride + dy\n",
    "                ix = ox * stride + dx\n",
    "\n",
    "                a_val = in_root[iy][ix]\n",
    "                acc += k_val * a_val\n",
    "\n",
    "                # Animate the contribution\n",
    "                canvas.addActivity((iy, ix), (dy, dx), (oy, ox))\n",
    "\n",
    "        output_row.append(ox, acc)\n",
    "    out_root.append(oy, output_row)\n",
    "\n",
    "# Show animation\n",
    "displayCanvas(canvas)"
   ]
  },
  {
   "cell_type": "code",
   "execution_count": 25,
   "metadata": {
    "id": "HwUEWL5UoRT-"
   },
   "outputs": [
    {
     "name": "stdout",
     "output_type": "stream",
     "text": [
      "Starting simulation\n",
      "Finished simulation\n"
     ]
    },
    {
     "data": {
      "application/vnd.jupyter.widget-view+json": {
       "model_id": "4eb85da1c95449e69bedd118cf6ad127",
       "version_major": 2,
       "version_minor": 0
      },
      "text/plain": [
       "Create individual tensor images for each cycle: 0it [00:00, ?it/s]"
      ]
     },
     "metadata": {},
     "output_type": "display_data"
    },
    {
     "data": {
      "application/vnd.jupyter.widget-view+json": {
       "model_id": "55318a02bcad45368575f3d84450d481",
       "version_major": 2,
       "version_minor": 0
      },
      "text/plain": [
       "Paste individual tensor images into frame for each cycle:   0%|          | 0/146 [00:00<?, ?it/s]"
      ]
     },
     "metadata": {},
     "output_type": "display_data"
    },
    {
     "data": {
      "application/vnd.jupyter.widget-view+json": {
       "model_id": "e254ac56e3b84450a3baffff8bb550d5",
       "version_major": 2,
       "version_minor": 0
      },
      "text/plain": [
       "Render video frame for each cycle:   0%|          | 0/146 [00:00<?, ?it/s]"
      ]
     },
     "metadata": {},
     "output_type": "display_data"
    },
    {
     "data": {
      "text/html": [
       "<video src=\"./tmp/2025.05.12_031918.sThGQzrnzj.mp4\"  loop autoplay controls  width=\"800\" >\n",
       "      Your browser does not support the <code>video</code> element.\n",
       "    </video>"
      ],
      "text/plain": [
       "<IPython.core.display.Video object>"
      ]
     },
     "metadata": {},
     "output_type": "display_data"
    }
   ],
   "source": [
    "# Parameters\n",
    "input_size = 6\n",
    "kernel_size = 3\n",
    "stride = 1  # Try 2 for stride 2\n",
    "pe_grid_size = 2  # Define the grid size for the parallel operations\n",
    "\n",
    "# Generate input\n",
    "input_vals = [[y * input_size + x + 1 for x in range(input_size)] for y in range(input_size)]\n",
    "input_tensor = Tensor.fromUncompressed(name=\"Input\", rank_ids=[\"Y\", \"X\"], root=input_vals, color=\"blue\")\n",
    "\n",
    "# Generate kernel\n",
    "kernel_vals = [[1 for _ in range(kernel_size)] for _ in range(kernel_size)]\n",
    "kernel_tensor = Tensor.fromUncompressed(name=\"Kernel\", rank_ids=[\"dY\", \"dX\"], root=kernel_vals, color=\"green\")\n",
    "\n",
    "# Output tensor\n",
    "output_tensor = Tensor(name=\"Output\", rank_ids=[\"Y\", \"X\"], color=\"red\")\n",
    "\n",
    "# Roots\n",
    "in_root = input_tensor.getRoot()\n",
    "ker_root = kernel_tensor.getRoot()\n",
    "out_root = output_tensor.getRoot()\n",
    "\n",
    "# Canvas\n",
    "canvas = createCanvas(input_tensor, kernel_tensor, output_tensor)\n",
    "\n",
    "# Output size\n",
    "output_size = (input_size - kernel_size) // stride + 1\n",
    "\n",
    "# Convolution loop with parallelism constraint\n",
    "for oy in range(output_size):\n",
    "    for ox in range(output_size):\n",
    "        # Process each PE grid (parallel operation) individually\n",
    "        acc = 0\n",
    "        for dy, ker_row in ker_root:\n",
    "            for dx, k_val in ker_row:\n",
    "                iy = oy * stride + dy\n",
    "                ix = ox * stride + dx\n",
    "\n",
    "                a_val = in_root[iy][ix]\n",
    "                acc += k_val * a_val\n",
    "\n",
    "                # Animate the operation\n",
    "                spacetime = (iy, ix, dy, dx)  # Assuming it's this format\n",
    "                caption = f\"op at ({oy},{ox})\"\n",
    "                canvas.addActivity(spacetime, caption)\n",
    "\n",
    "        # Append the result (output index and accumulated value) in order\n",
    "        out_root.append((oy, ox), acc)\n",
    "\n",
    "# Show animation\n",
    "displayCanvas(canvas)\n"
   ]
  },
  {
   "cell_type": "code",
   "execution_count": null,
   "metadata": {},
   "outputs": [],
   "source": []
  }
 ],
 "metadata": {
  "colab": {
   "provenance": []
  },
  "kernelspec": {
   "display_name": "Python 3 (ipykernel)",
   "language": "python",
   "name": "python3"
  },
  "language_info": {
   "codemirror_mode": {
    "name": "ipython",
    "version": 3
   },
   "file_extension": ".py",
   "mimetype": "text/x-python",
   "name": "python",
   "nbconvert_exporter": "python",
   "pygments_lexer": "ipython3",
   "version": "3.10.12"
  },
  "widgets": {
   "application/vnd.jupyter.widget-state+json": {
    "0401cb72bda545a283f3d5a07a43de88": {
     "model_module": "@jupyter-widgets/base",
     "model_module_version": "1.2.0",
     "model_name": "LayoutModel",
     "state": {
      "_model_module": "@jupyter-widgets/base",
      "_model_module_version": "1.2.0",
      "_model_name": "LayoutModel",
      "_view_count": null,
      "_view_module": "@jupyter-widgets/base",
      "_view_module_version": "1.2.0",
      "_view_name": "LayoutView",
      "align_content": null,
      "align_items": null,
      "align_self": null,
      "border": null,
      "bottom": null,
      "display": null,
      "flex": null,
      "flex_flow": null,
      "grid_area": null,
      "grid_auto_columns": null,
      "grid_auto_flow": null,
      "grid_auto_rows": null,
      "grid_column": null,
      "grid_gap": null,
      "grid_row": null,
      "grid_template_areas": null,
      "grid_template_columns": null,
      "grid_template_rows": null,
      "height": null,
      "justify_content": null,
      "justify_items": null,
      "left": null,
      "margin": null,
      "max_height": null,
      "max_width": null,
      "min_height": null,
      "min_width": null,
      "object_fit": null,
      "object_position": null,
      "order": null,
      "overflow": null,
      "overflow_x": null,
      "overflow_y": null,
      "padding": null,
      "right": null,
      "top": null,
      "visibility": null,
      "width": "20px"
     }
    },
    "134bf93468324e2aa5151d51143ad2b0": {
     "model_module": "@jupyter-widgets/base",
     "model_module_version": "1.2.0",
     "model_name": "LayoutModel",
     "state": {
      "_model_module": "@jupyter-widgets/base",
      "_model_module_version": "1.2.0",
      "_model_name": "LayoutModel",
      "_view_count": null,
      "_view_module": "@jupyter-widgets/base",
      "_view_module_version": "1.2.0",
      "_view_name": "LayoutView",
      "align_content": null,
      "align_items": null,
      "align_self": null,
      "border": null,
      "bottom": null,
      "display": null,
      "flex": null,
      "flex_flow": null,
      "grid_area": null,
      "grid_auto_columns": null,
      "grid_auto_flow": null,
      "grid_auto_rows": null,
      "grid_column": null,
      "grid_gap": null,
      "grid_row": null,
      "grid_template_areas": null,
      "grid_template_columns": null,
      "grid_template_rows": null,
      "height": null,
      "justify_content": null,
      "justify_items": null,
      "left": null,
      "margin": null,
      "max_height": null,
      "max_width": null,
      "min_height": null,
      "min_width": null,
      "object_fit": null,
      "object_position": null,
      "order": null,
      "overflow": null,
      "overflow_x": null,
      "overflow_y": null,
      "padding": null,
      "right": null,
      "top": null,
      "visibility": null,
      "width": "20px"
     }
    },
    "150cb41b8b6c418cb6cdfe8da90f68e5": {
     "model_module": "@jupyter-widgets/controls",
     "model_module_version": "1.5.0",
     "model_name": "DescriptionStyleModel",
     "state": {
      "_model_module": "@jupyter-widgets/controls",
      "_model_module_version": "1.5.0",
      "_model_name": "DescriptionStyleModel",
      "_view_count": null,
      "_view_module": "@jupyter-widgets/base",
      "_view_module_version": "1.2.0",
      "_view_name": "StyleView",
      "description_width": ""
     }
    },
    "1cdde8ac64754506a70a25206510eeec": {
     "model_module": "@jupyter-widgets/controls",
     "model_module_version": "1.5.0",
     "model_name": "HBoxModel",
     "state": {
      "_dom_classes": [],
      "_model_module": "@jupyter-widgets/controls",
      "_model_module_version": "1.5.0",
      "_model_name": "HBoxModel",
      "_view_count": null,
      "_view_module": "@jupyter-widgets/controls",
      "_view_module_version": "1.5.0",
      "_view_name": "HBoxView",
      "box_style": "",
      "children": [
       "IPY_MODEL_bb2506d5d9ac43ab97450321a624050f",
       "IPY_MODEL_bdf718d74313425bab335801d49982ea",
       "IPY_MODEL_4231dc4d93154e15b2ed9028eb348625"
      ],
      "layout": "IPY_MODEL_c8173bf038794c828ab11685aa5e9b59"
     }
    },
    "1d090888fb7a4f2bab1caf14beefe1ce": {
     "model_module": "@jupyter-widgets/controls",
     "model_module_version": "1.5.0",
     "model_name": "HTMLModel",
     "state": {
      "_dom_classes": [],
      "_model_module": "@jupyter-widgets/controls",
      "_model_module_version": "1.5.0",
      "_model_name": "HTMLModel",
      "_view_count": null,
      "_view_module": "@jupyter-widgets/controls",
      "_view_module_version": "1.5.0",
      "_view_name": "HTMLView",
      "description": "",
      "description_tooltip": null,
      "layout": "IPY_MODEL_cab137ecd1454fbcbe15ac16017b1415",
      "placeholder": "​",
      "style": "IPY_MODEL_bf20efbd3a944b039677ba87b5168ad1",
      "value": " 0/0 [00:00&lt;?, ?it/s]"
     }
    },
    "30cda269dc5c45078f340ffd130e9d93": {
     "model_module": "@jupyter-widgets/controls",
     "model_module_version": "1.5.0",
     "model_name": "FloatProgressModel",
     "state": {
      "_dom_classes": [],
      "_model_module": "@jupyter-widgets/controls",
      "_model_module_version": "1.5.0",
      "_model_name": "FloatProgressModel",
      "_view_count": null,
      "_view_module": "@jupyter-widgets/controls",
      "_view_module_version": "1.5.0",
      "_view_name": "ProgressView",
      "bar_style": "info",
      "description": "",
      "description_tooltip": null,
      "layout": "IPY_MODEL_134bf93468324e2aa5151d51143ad2b0",
      "max": 1,
      "min": 0,
      "orientation": "horizontal",
      "style": "IPY_MODEL_82fbe93f35204d5c9e875c338596c232",
      "value": 0
     }
    },
    "352554ff6b1241aaa5acab0c8857e82b": {
     "model_module": "@jupyter-widgets/controls",
     "model_module_version": "1.5.0",
     "model_name": "HBoxModel",
     "state": {
      "_dom_classes": [],
      "_model_module": "@jupyter-widgets/controls",
      "_model_module_version": "1.5.0",
      "_model_name": "HBoxModel",
      "_view_count": null,
      "_view_module": "@jupyter-widgets/controls",
      "_view_module_version": "1.5.0",
      "_view_name": "HBoxView",
      "box_style": "",
      "children": [
       "IPY_MODEL_555dfe8687b9415fbdf181c36c6130f3",
       "IPY_MODEL_aa38caa659124698b269ea11959f00d5",
       "IPY_MODEL_1d090888fb7a4f2bab1caf14beefe1ce"
      ],
      "layout": "IPY_MODEL_7030d91c8c9d40269a4128dc1f2ee820"
     }
    },
    "4231dc4d93154e15b2ed9028eb348625": {
     "model_module": "@jupyter-widgets/controls",
     "model_module_version": "1.5.0",
     "model_name": "HTMLModel",
     "state": {
      "_dom_classes": [],
      "_model_module": "@jupyter-widgets/controls",
      "_model_module_version": "1.5.0",
      "_model_name": "HTMLModel",
      "_view_count": null,
      "_view_module": "@jupyter-widgets/controls",
      "_view_module_version": "1.5.0",
      "_view_name": "HTMLView",
      "description": "",
      "description_tooltip": null,
      "layout": "IPY_MODEL_c2741647afb4465883f4c2bfb7d2f710",
      "placeholder": "​",
      "style": "IPY_MODEL_4c6f215564b843acbdb90ba1fc8f645b",
      "value": " 0/0 [00:00&lt;?, ?it/s]"
     }
    },
    "4c6f215564b843acbdb90ba1fc8f645b": {
     "model_module": "@jupyter-widgets/controls",
     "model_module_version": "1.5.0",
     "model_name": "DescriptionStyleModel",
     "state": {
      "_model_module": "@jupyter-widgets/controls",
      "_model_module_version": "1.5.0",
      "_model_name": "DescriptionStyleModel",
      "_view_count": null,
      "_view_module": "@jupyter-widgets/base",
      "_view_module_version": "1.2.0",
      "_view_name": "StyleView",
      "description_width": ""
     }
    },
    "4ce358882caa46b28ec2b8500d14d1f1": {
     "model_module": "@jupyter-widgets/base",
     "model_module_version": "1.2.0",
     "model_name": "LayoutModel",
     "state": {
      "_model_module": "@jupyter-widgets/base",
      "_model_module_version": "1.2.0",
      "_model_name": "LayoutModel",
      "_view_count": null,
      "_view_module": "@jupyter-widgets/base",
      "_view_module_version": "1.2.0",
      "_view_name": "LayoutView",
      "align_content": null,
      "align_items": null,
      "align_self": null,
      "border": null,
      "bottom": null,
      "display": null,
      "flex": null,
      "flex_flow": null,
      "grid_area": null,
      "grid_auto_columns": null,
      "grid_auto_flow": null,
      "grid_auto_rows": null,
      "grid_column": null,
      "grid_gap": null,
      "grid_row": null,
      "grid_template_areas": null,
      "grid_template_columns": null,
      "grid_template_rows": null,
      "height": null,
      "justify_content": null,
      "justify_items": null,
      "left": null,
      "margin": null,
      "max_height": null,
      "max_width": null,
      "min_height": null,
      "min_width": null,
      "object_fit": null,
      "object_position": null,
      "order": null,
      "overflow": null,
      "overflow_x": null,
      "overflow_y": null,
      "padding": null,
      "right": null,
      "top": null,
      "visibility": null,
      "width": null
     }
    },
    "555dfe8687b9415fbdf181c36c6130f3": {
     "model_module": "@jupyter-widgets/controls",
     "model_module_version": "1.5.0",
     "model_name": "HTMLModel",
     "state": {
      "_dom_classes": [],
      "_model_module": "@jupyter-widgets/controls",
      "_model_module_version": "1.5.0",
      "_model_name": "HTMLModel",
      "_view_count": null,
      "_view_module": "@jupyter-widgets/controls",
      "_view_module_version": "1.5.0",
      "_view_name": "HTMLView",
      "description": "",
      "description_tooltip": null,
      "layout": "IPY_MODEL_a1339e6d977f43e6abb93ada1e7f70b7",
      "placeholder": "​",
      "style": "IPY_MODEL_150cb41b8b6c418cb6cdfe8da90f68e5",
      "value": "Create individual tensor images for each cycle: "
     }
    },
    "66bc823266ec49eea493fc0d930f2387": {
     "model_module": "@jupyter-widgets/controls",
     "model_module_version": "1.5.0",
     "model_name": "DescriptionStyleModel",
     "state": {
      "_model_module": "@jupyter-widgets/controls",
      "_model_module_version": "1.5.0",
      "_model_name": "DescriptionStyleModel",
      "_view_count": null,
      "_view_module": "@jupyter-widgets/base",
      "_view_module_version": "1.2.0",
      "_view_name": "StyleView",
      "description_width": ""
     }
    },
    "7030d91c8c9d40269a4128dc1f2ee820": {
     "model_module": "@jupyter-widgets/base",
     "model_module_version": "1.2.0",
     "model_name": "LayoutModel",
     "state": {
      "_model_module": "@jupyter-widgets/base",
      "_model_module_version": "1.2.0",
      "_model_name": "LayoutModel",
      "_view_count": null,
      "_view_module": "@jupyter-widgets/base",
      "_view_module_version": "1.2.0",
      "_view_name": "LayoutView",
      "align_content": null,
      "align_items": null,
      "align_self": null,
      "border": null,
      "bottom": null,
      "display": null,
      "flex": null,
      "flex_flow": null,
      "grid_area": null,
      "grid_auto_columns": null,
      "grid_auto_flow": null,
      "grid_auto_rows": null,
      "grid_column": null,
      "grid_gap": null,
      "grid_row": null,
      "grid_template_areas": null,
      "grid_template_columns": null,
      "grid_template_rows": null,
      "height": null,
      "justify_content": null,
      "justify_items": null,
      "left": null,
      "margin": null,
      "max_height": null,
      "max_width": null,
      "min_height": null,
      "min_width": null,
      "object_fit": null,
      "object_position": null,
      "order": null,
      "overflow": null,
      "overflow_x": null,
      "overflow_y": null,
      "padding": null,
      "right": null,
      "top": null,
      "visibility": "hidden",
      "width": null
     }
    },
    "71d4d028f03946eb95eab06b223147c5": {
     "model_module": "@jupyter-widgets/base",
     "model_module_version": "1.2.0",
     "model_name": "LayoutModel",
     "state": {
      "_model_module": "@jupyter-widgets/base",
      "_model_module_version": "1.2.0",
      "_model_name": "LayoutModel",
      "_view_count": null,
      "_view_module": "@jupyter-widgets/base",
      "_view_module_version": "1.2.0",
      "_view_name": "LayoutView",
      "align_content": null,
      "align_items": null,
      "align_self": null,
      "border": null,
      "bottom": null,
      "display": null,
      "flex": null,
      "flex_flow": null,
      "grid_area": null,
      "grid_auto_columns": null,
      "grid_auto_flow": null,
      "grid_auto_rows": null,
      "grid_column": null,
      "grid_gap": null,
      "grid_row": null,
      "grid_template_areas": null,
      "grid_template_columns": null,
      "grid_template_rows": null,
      "height": null,
      "justify_content": null,
      "justify_items": null,
      "left": null,
      "margin": null,
      "max_height": null,
      "max_width": null,
      "min_height": null,
      "min_width": null,
      "object_fit": null,
      "object_position": null,
      "order": null,
      "overflow": null,
      "overflow_x": null,
      "overflow_y": null,
      "padding": null,
      "right": null,
      "top": null,
      "visibility": null,
      "width": null
     }
    },
    "82fbe93f35204d5c9e875c338596c232": {
     "model_module": "@jupyter-widgets/controls",
     "model_module_version": "1.5.0",
     "model_name": "ProgressStyleModel",
     "state": {
      "_model_module": "@jupyter-widgets/controls",
      "_model_module_version": "1.5.0",
      "_model_name": "ProgressStyleModel",
      "_view_count": null,
      "_view_module": "@jupyter-widgets/base",
      "_view_module_version": "1.2.0",
      "_view_name": "StyleView",
      "bar_color": null,
      "description_width": ""
     }
    },
    "8a022553be864e7d8fb4b7d678548f51": {
     "model_module": "@jupyter-widgets/controls",
     "model_module_version": "1.5.0",
     "model_name": "DescriptionStyleModel",
     "state": {
      "_model_module": "@jupyter-widgets/controls",
      "_model_module_version": "1.5.0",
      "_model_name": "DescriptionStyleModel",
      "_view_count": null,
      "_view_module": "@jupyter-widgets/base",
      "_view_module_version": "1.2.0",
      "_view_name": "StyleView",
      "description_width": ""
     }
    },
    "8a9d97733ec643c6870422266feb7a59": {
     "model_module": "@jupyter-widgets/base",
     "model_module_version": "1.2.0",
     "model_name": "LayoutModel",
     "state": {
      "_model_module": "@jupyter-widgets/base",
      "_model_module_version": "1.2.0",
      "_model_name": "LayoutModel",
      "_view_count": null,
      "_view_module": "@jupyter-widgets/base",
      "_view_module_version": "1.2.0",
      "_view_name": "LayoutView",
      "align_content": null,
      "align_items": null,
      "align_self": null,
      "border": null,
      "bottom": null,
      "display": null,
      "flex": null,
      "flex_flow": null,
      "grid_area": null,
      "grid_auto_columns": null,
      "grid_auto_flow": null,
      "grid_auto_rows": null,
      "grid_column": null,
      "grid_gap": null,
      "grid_row": null,
      "grid_template_areas": null,
      "grid_template_columns": null,
      "grid_template_rows": null,
      "height": null,
      "justify_content": null,
      "justify_items": null,
      "left": null,
      "margin": null,
      "max_height": null,
      "max_width": null,
      "min_height": null,
      "min_width": null,
      "object_fit": null,
      "object_position": null,
      "order": null,
      "overflow": null,
      "overflow_x": null,
      "overflow_y": null,
      "padding": null,
      "right": null,
      "top": null,
      "visibility": null,
      "width": null
     }
    },
    "8e238e6f5b5c4d35be31b471f153b358": {
     "model_module": "@jupyter-widgets/base",
     "model_module_version": "1.2.0",
     "model_name": "LayoutModel",
     "state": {
      "_model_module": "@jupyter-widgets/base",
      "_model_module_version": "1.2.0",
      "_model_name": "LayoutModel",
      "_view_count": null,
      "_view_module": "@jupyter-widgets/base",
      "_view_module_version": "1.2.0",
      "_view_name": "LayoutView",
      "align_content": null,
      "align_items": null,
      "align_self": null,
      "border": null,
      "bottom": null,
      "display": null,
      "flex": null,
      "flex_flow": null,
      "grid_area": null,
      "grid_auto_columns": null,
      "grid_auto_flow": null,
      "grid_auto_rows": null,
      "grid_column": null,
      "grid_gap": null,
      "grid_row": null,
      "grid_template_areas": null,
      "grid_template_columns": null,
      "grid_template_rows": null,
      "height": null,
      "justify_content": null,
      "justify_items": null,
      "left": null,
      "margin": null,
      "max_height": null,
      "max_width": null,
      "min_height": null,
      "min_width": null,
      "object_fit": null,
      "object_position": null,
      "order": null,
      "overflow": null,
      "overflow_x": null,
      "overflow_y": null,
      "padding": null,
      "right": null,
      "top": null,
      "visibility": null,
      "width": null
     }
    },
    "91ea86c972f54f2b82b4bc2b6b944208": {
     "model_module": "@jupyter-widgets/controls",
     "model_module_version": "1.5.0",
     "model_name": "ProgressStyleModel",
     "state": {
      "_model_module": "@jupyter-widgets/controls",
      "_model_module_version": "1.5.0",
      "_model_name": "ProgressStyleModel",
      "_view_count": null,
      "_view_module": "@jupyter-widgets/base",
      "_view_module_version": "1.2.0",
      "_view_name": "StyleView",
      "bar_color": null,
      "description_width": ""
     }
    },
    "982f3b6ae716417c8e8b3e340ed4c404": {
     "model_module": "@jupyter-widgets/controls",
     "model_module_version": "1.5.0",
     "model_name": "DescriptionStyleModel",
     "state": {
      "_model_module": "@jupyter-widgets/controls",
      "_model_module_version": "1.5.0",
      "_model_name": "DescriptionStyleModel",
      "_view_count": null,
      "_view_module": "@jupyter-widgets/base",
      "_view_module_version": "1.2.0",
      "_view_name": "StyleView",
      "description_width": ""
     }
    },
    "9a304c68f2f144deb3f24529cf56049d": {
     "model_module": "@jupyter-widgets/controls",
     "model_module_version": "1.5.0",
     "model_name": "HTMLModel",
     "state": {
      "_dom_classes": [],
      "_model_module": "@jupyter-widgets/controls",
      "_model_module_version": "1.5.0",
      "_model_name": "HTMLModel",
      "_view_count": null,
      "_view_module": "@jupyter-widgets/controls",
      "_view_module_version": "1.5.0",
      "_view_name": "HTMLView",
      "description": "",
      "description_tooltip": null,
      "layout": "IPY_MODEL_71d4d028f03946eb95eab06b223147c5",
      "placeholder": "​",
      "style": "IPY_MODEL_8a022553be864e7d8fb4b7d678548f51",
      "value": "Create individual tensor images for each cycle: "
     }
    },
    "9d43524f1de742dea2bf5c9753a82c09": {
     "model_module": "@jupyter-widgets/base",
     "model_module_version": "1.2.0",
     "model_name": "LayoutModel",
     "state": {
      "_model_module": "@jupyter-widgets/base",
      "_model_module_version": "1.2.0",
      "_model_name": "LayoutModel",
      "_view_count": null,
      "_view_module": "@jupyter-widgets/base",
      "_view_module_version": "1.2.0",
      "_view_name": "LayoutView",
      "align_content": null,
      "align_items": null,
      "align_self": null,
      "border": null,
      "bottom": null,
      "display": null,
      "flex": null,
      "flex_flow": null,
      "grid_area": null,
      "grid_auto_columns": null,
      "grid_auto_flow": null,
      "grid_auto_rows": null,
      "grid_column": null,
      "grid_gap": null,
      "grid_row": null,
      "grid_template_areas": null,
      "grid_template_columns": null,
      "grid_template_rows": null,
      "height": null,
      "justify_content": null,
      "justify_items": null,
      "left": null,
      "margin": null,
      "max_height": null,
      "max_width": null,
      "min_height": null,
      "min_width": null,
      "object_fit": null,
      "object_position": null,
      "order": null,
      "overflow": null,
      "overflow_x": null,
      "overflow_y": null,
      "padding": null,
      "right": null,
      "top": null,
      "visibility": null,
      "width": "20px"
     }
    },
    "9ed3bc54327e4acba94a9b26b594e6e0": {
     "model_module": "@jupyter-widgets/controls",
     "model_module_version": "1.5.0",
     "model_name": "DropdownModel",
     "state": {
      "_dom_classes": [],
      "_model_module": "@jupyter-widgets/controls",
      "_model_module_version": "1.5.0",
      "_model_name": "DropdownModel",
      "_options_labels": [
       "tree",
       "uncompressed",
       "tree+uncompressed"
      ],
      "_view_count": null,
      "_view_module": "@jupyter-widgets/controls",
      "_view_module_version": "1.5.0",
      "_view_name": "DropdownView",
      "description": "style",
      "description_tooltip": null,
      "disabled": false,
      "index": 0,
      "layout": "IPY_MODEL_8a9d97733ec643c6870422266feb7a59",
      "style": "IPY_MODEL_cc1b3ff8ba704b58a5f6df703d719623"
     }
    },
    "a1339e6d977f43e6abb93ada1e7f70b7": {
     "model_module": "@jupyter-widgets/base",
     "model_module_version": "1.2.0",
     "model_name": "LayoutModel",
     "state": {
      "_model_module": "@jupyter-widgets/base",
      "_model_module_version": "1.2.0",
      "_model_name": "LayoutModel",
      "_view_count": null,
      "_view_module": "@jupyter-widgets/base",
      "_view_module_version": "1.2.0",
      "_view_name": "LayoutView",
      "align_content": null,
      "align_items": null,
      "align_self": null,
      "border": null,
      "bottom": null,
      "display": null,
      "flex": null,
      "flex_flow": null,
      "grid_area": null,
      "grid_auto_columns": null,
      "grid_auto_flow": null,
      "grid_auto_rows": null,
      "grid_column": null,
      "grid_gap": null,
      "grid_row": null,
      "grid_template_areas": null,
      "grid_template_columns": null,
      "grid_template_rows": null,
      "height": null,
      "justify_content": null,
      "justify_items": null,
      "left": null,
      "margin": null,
      "max_height": null,
      "max_width": null,
      "min_height": null,
      "min_width": null,
      "object_fit": null,
      "object_position": null,
      "order": null,
      "overflow": null,
      "overflow_x": null,
      "overflow_y": null,
      "padding": null,
      "right": null,
      "top": null,
      "visibility": null,
      "width": null
     }
    },
    "aa38caa659124698b269ea11959f00d5": {
     "model_module": "@jupyter-widgets/controls",
     "model_module_version": "1.5.0",
     "model_name": "FloatProgressModel",
     "state": {
      "_dom_classes": [],
      "_model_module": "@jupyter-widgets/controls",
      "_model_module_version": "1.5.0",
      "_model_name": "FloatProgressModel",
      "_view_count": null,
      "_view_module": "@jupyter-widgets/controls",
      "_view_module_version": "1.5.0",
      "_view_name": "ProgressView",
      "bar_style": "info",
      "description": "",
      "description_tooltip": null,
      "layout": "IPY_MODEL_0401cb72bda545a283f3d5a07a43de88",
      "max": 1,
      "min": 0,
      "orientation": "horizontal",
      "style": "IPY_MODEL_91ea86c972f54f2b82b4bc2b6b944208",
      "value": 0
     }
    },
    "aa4f0ae4303b4258910630dda4cdb957": {
     "model_module": "@jupyter-widgets/controls",
     "model_module_version": "1.5.0",
     "model_name": "HBoxModel",
     "state": {
      "_dom_classes": [],
      "_model_module": "@jupyter-widgets/controls",
      "_model_module_version": "1.5.0",
      "_model_name": "HBoxModel",
      "_view_count": null,
      "_view_module": "@jupyter-widgets/controls",
      "_view_module_version": "1.5.0",
      "_view_name": "HBoxView",
      "box_style": "",
      "children": [
       "IPY_MODEL_9a304c68f2f144deb3f24529cf56049d",
       "IPY_MODEL_30cda269dc5c45078f340ffd130e9d93",
       "IPY_MODEL_e1463bc89e5c446b8c7212dcd3a653b0"
      ],
      "layout": "IPY_MODEL_c0daf7403b3d4b60a93539c1aa8a961d"
     }
    },
    "adce976326534c0181c695b60a636a67": {
     "model_module": "@jupyter-widgets/controls",
     "model_module_version": "1.5.0",
     "model_name": "DropdownModel",
     "state": {
      "_dom_classes": [],
      "_model_module": "@jupyter-widgets/controls",
      "_model_module_version": "1.5.0",
      "_model_name": "DropdownModel",
      "_options_labels": [
       "none",
       "movie",
       "slideshow",
       "spacetime"
      ],
      "_view_count": null,
      "_view_module": "@jupyter-widgets/controls",
      "_view_module_version": "1.5.0",
      "_view_name": "DropdownView",
      "description": "animation",
      "description_tooltip": null,
      "disabled": false,
      "index": 1,
      "layout": "IPY_MODEL_e9c9c10e07864cafb3757a4d134290f2",
      "style": "IPY_MODEL_982f3b6ae716417c8e8b3e340ed4c404"
     }
    },
    "b6060759ba34493aa4275a2900d32fda": {
     "model_module": "@jupyter-widgets/output",
     "model_module_version": "1.0.0",
     "model_name": "OutputModel",
     "state": {
      "_dom_classes": [],
      "_model_module": "@jupyter-widgets/output",
      "_model_module_version": "1.0.0",
      "_model_name": "OutputModel",
      "_view_count": null,
      "_view_module": "@jupyter-widgets/output",
      "_view_module_version": "1.0.0",
      "_view_name": "OutputView",
      "layout": "IPY_MODEL_8e238e6f5b5c4d35be31b471f153b358",
      "msg_id": "",
      "outputs": []
     }
    },
    "bb2506d5d9ac43ab97450321a624050f": {
     "model_module": "@jupyter-widgets/controls",
     "model_module_version": "1.5.0",
     "model_name": "HTMLModel",
     "state": {
      "_dom_classes": [],
      "_model_module": "@jupyter-widgets/controls",
      "_model_module_version": "1.5.0",
      "_model_name": "HTMLModel",
      "_view_count": null,
      "_view_module": "@jupyter-widgets/controls",
      "_view_module_version": "1.5.0",
      "_view_name": "HTMLView",
      "description": "",
      "description_tooltip": null,
      "layout": "IPY_MODEL_ff55321d8cc7405eaf2f2a37092432cc",
      "placeholder": "​",
      "style": "IPY_MODEL_f48daf93a4c84f338c9625f9f6ec1c14",
      "value": "Create individual tensor images for each cycle: "
     }
    },
    "bcc9e96a02ca4d869dfe47484963c1fa": {
     "model_module": "@jupyter-widgets/base",
     "model_module_version": "1.2.0",
     "model_name": "LayoutModel",
     "state": {
      "_model_module": "@jupyter-widgets/base",
      "_model_module_version": "1.2.0",
      "_model_name": "LayoutModel",
      "_view_count": null,
      "_view_module": "@jupyter-widgets/base",
      "_view_module_version": "1.2.0",
      "_view_name": "LayoutView",
      "align_content": null,
      "align_items": null,
      "align_self": null,
      "border": null,
      "bottom": null,
      "display": null,
      "flex": null,
      "flex_flow": null,
      "grid_area": null,
      "grid_auto_columns": null,
      "grid_auto_flow": null,
      "grid_auto_rows": null,
      "grid_column": null,
      "grid_gap": null,
      "grid_row": null,
      "grid_template_areas": null,
      "grid_template_columns": null,
      "grid_template_rows": null,
      "height": null,
      "justify_content": null,
      "justify_items": null,
      "left": null,
      "margin": null,
      "max_height": null,
      "max_width": null,
      "min_height": null,
      "min_width": null,
      "object_fit": null,
      "object_position": null,
      "order": null,
      "overflow": null,
      "overflow_x": null,
      "overflow_y": null,
      "padding": null,
      "right": null,
      "top": null,
      "visibility": null,
      "width": null
     }
    },
    "bdf718d74313425bab335801d49982ea": {
     "model_module": "@jupyter-widgets/controls",
     "model_module_version": "1.5.0",
     "model_name": "FloatProgressModel",
     "state": {
      "_dom_classes": [],
      "_model_module": "@jupyter-widgets/controls",
      "_model_module_version": "1.5.0",
      "_model_name": "FloatProgressModel",
      "_view_count": null,
      "_view_module": "@jupyter-widgets/controls",
      "_view_module_version": "1.5.0",
      "_view_name": "ProgressView",
      "bar_style": "info",
      "description": "",
      "description_tooltip": null,
      "layout": "IPY_MODEL_9d43524f1de742dea2bf5c9753a82c09",
      "max": 1,
      "min": 0,
      "orientation": "horizontal",
      "style": "IPY_MODEL_db0f380abc9e4b36a5bf5ac20744e32c",
      "value": 0
     }
    },
    "bf20efbd3a944b039677ba87b5168ad1": {
     "model_module": "@jupyter-widgets/controls",
     "model_module_version": "1.5.0",
     "model_name": "DescriptionStyleModel",
     "state": {
      "_model_module": "@jupyter-widgets/controls",
      "_model_module_version": "1.5.0",
      "_model_name": "DescriptionStyleModel",
      "_view_count": null,
      "_view_module": "@jupyter-widgets/base",
      "_view_module_version": "1.2.0",
      "_view_name": "StyleView",
      "description_width": ""
     }
    },
    "c0daf7403b3d4b60a93539c1aa8a961d": {
     "model_module": "@jupyter-widgets/base",
     "model_module_version": "1.2.0",
     "model_name": "LayoutModel",
     "state": {
      "_model_module": "@jupyter-widgets/base",
      "_model_module_version": "1.2.0",
      "_model_name": "LayoutModel",
      "_view_count": null,
      "_view_module": "@jupyter-widgets/base",
      "_view_module_version": "1.2.0",
      "_view_name": "LayoutView",
      "align_content": null,
      "align_items": null,
      "align_self": null,
      "border": null,
      "bottom": null,
      "display": null,
      "flex": null,
      "flex_flow": null,
      "grid_area": null,
      "grid_auto_columns": null,
      "grid_auto_flow": null,
      "grid_auto_rows": null,
      "grid_column": null,
      "grid_gap": null,
      "grid_row": null,
      "grid_template_areas": null,
      "grid_template_columns": null,
      "grid_template_rows": null,
      "height": null,
      "justify_content": null,
      "justify_items": null,
      "left": null,
      "margin": null,
      "max_height": null,
      "max_width": null,
      "min_height": null,
      "min_width": null,
      "object_fit": null,
      "object_position": null,
      "order": null,
      "overflow": null,
      "overflow_x": null,
      "overflow_y": null,
      "padding": null,
      "right": null,
      "top": null,
      "visibility": "hidden",
      "width": null
     }
    },
    "c2741647afb4465883f4c2bfb7d2f710": {
     "model_module": "@jupyter-widgets/base",
     "model_module_version": "1.2.0",
     "model_name": "LayoutModel",
     "state": {
      "_model_module": "@jupyter-widgets/base",
      "_model_module_version": "1.2.0",
      "_model_name": "LayoutModel",
      "_view_count": null,
      "_view_module": "@jupyter-widgets/base",
      "_view_module_version": "1.2.0",
      "_view_name": "LayoutView",
      "align_content": null,
      "align_items": null,
      "align_self": null,
      "border": null,
      "bottom": null,
      "display": null,
      "flex": null,
      "flex_flow": null,
      "grid_area": null,
      "grid_auto_columns": null,
      "grid_auto_flow": null,
      "grid_auto_rows": null,
      "grid_column": null,
      "grid_gap": null,
      "grid_row": null,
      "grid_template_areas": null,
      "grid_template_columns": null,
      "grid_template_rows": null,
      "height": null,
      "justify_content": null,
      "justify_items": null,
      "left": null,
      "margin": null,
      "max_height": null,
      "max_width": null,
      "min_height": null,
      "min_width": null,
      "object_fit": null,
      "object_position": null,
      "order": null,
      "overflow": null,
      "overflow_x": null,
      "overflow_y": null,
      "padding": null,
      "right": null,
      "top": null,
      "visibility": null,
      "width": null
     }
    },
    "c8173bf038794c828ab11685aa5e9b59": {
     "model_module": "@jupyter-widgets/base",
     "model_module_version": "1.2.0",
     "model_name": "LayoutModel",
     "state": {
      "_model_module": "@jupyter-widgets/base",
      "_model_module_version": "1.2.0",
      "_model_name": "LayoutModel",
      "_view_count": null,
      "_view_module": "@jupyter-widgets/base",
      "_view_module_version": "1.2.0",
      "_view_name": "LayoutView",
      "align_content": null,
      "align_items": null,
      "align_self": null,
      "border": null,
      "bottom": null,
      "display": null,
      "flex": null,
      "flex_flow": null,
      "grid_area": null,
      "grid_auto_columns": null,
      "grid_auto_flow": null,
      "grid_auto_rows": null,
      "grid_column": null,
      "grid_gap": null,
      "grid_row": null,
      "grid_template_areas": null,
      "grid_template_columns": null,
      "grid_template_rows": null,
      "height": null,
      "justify_content": null,
      "justify_items": null,
      "left": null,
      "margin": null,
      "max_height": null,
      "max_width": null,
      "min_height": null,
      "min_width": null,
      "object_fit": null,
      "object_position": null,
      "order": null,
      "overflow": null,
      "overflow_x": null,
      "overflow_y": null,
      "padding": null,
      "right": null,
      "top": null,
      "visibility": "hidden",
      "width": null
     }
    },
    "cab137ecd1454fbcbe15ac16017b1415": {
     "model_module": "@jupyter-widgets/base",
     "model_module_version": "1.2.0",
     "model_name": "LayoutModel",
     "state": {
      "_model_module": "@jupyter-widgets/base",
      "_model_module_version": "1.2.0",
      "_model_name": "LayoutModel",
      "_view_count": null,
      "_view_module": "@jupyter-widgets/base",
      "_view_module_version": "1.2.0",
      "_view_name": "LayoutView",
      "align_content": null,
      "align_items": null,
      "align_self": null,
      "border": null,
      "bottom": null,
      "display": null,
      "flex": null,
      "flex_flow": null,
      "grid_area": null,
      "grid_auto_columns": null,
      "grid_auto_flow": null,
      "grid_auto_rows": null,
      "grid_column": null,
      "grid_gap": null,
      "grid_row": null,
      "grid_template_areas": null,
      "grid_template_columns": null,
      "grid_template_rows": null,
      "height": null,
      "justify_content": null,
      "justify_items": null,
      "left": null,
      "margin": null,
      "max_height": null,
      "max_width": null,
      "min_height": null,
      "min_width": null,
      "object_fit": null,
      "object_position": null,
      "order": null,
      "overflow": null,
      "overflow_x": null,
      "overflow_y": null,
      "padding": null,
      "right": null,
      "top": null,
      "visibility": null,
      "width": null
     }
    },
    "cc1b3ff8ba704b58a5f6df703d719623": {
     "model_module": "@jupyter-widgets/controls",
     "model_module_version": "1.5.0",
     "model_name": "DescriptionStyleModel",
     "state": {
      "_model_module": "@jupyter-widgets/controls",
      "_model_module_version": "1.5.0",
      "_model_name": "DescriptionStyleModel",
      "_view_count": null,
      "_view_module": "@jupyter-widgets/base",
      "_view_module_version": "1.2.0",
      "_view_name": "StyleView",
      "description_width": ""
     }
    },
    "db0f380abc9e4b36a5bf5ac20744e32c": {
     "model_module": "@jupyter-widgets/controls",
     "model_module_version": "1.5.0",
     "model_name": "ProgressStyleModel",
     "state": {
      "_model_module": "@jupyter-widgets/controls",
      "_model_module_version": "1.5.0",
      "_model_name": "ProgressStyleModel",
      "_view_count": null,
      "_view_module": "@jupyter-widgets/base",
      "_view_module_version": "1.2.0",
      "_view_name": "StyleView",
      "bar_color": null,
      "description_width": ""
     }
    },
    "e1463bc89e5c446b8c7212dcd3a653b0": {
     "model_module": "@jupyter-widgets/controls",
     "model_module_version": "1.5.0",
     "model_name": "HTMLModel",
     "state": {
      "_dom_classes": [],
      "_model_module": "@jupyter-widgets/controls",
      "_model_module_version": "1.5.0",
      "_model_name": "HTMLModel",
      "_view_count": null,
      "_view_module": "@jupyter-widgets/controls",
      "_view_module_version": "1.5.0",
      "_view_name": "HTMLView",
      "description": "",
      "description_tooltip": null,
      "layout": "IPY_MODEL_4ce358882caa46b28ec2b8500d14d1f1",
      "placeholder": "​",
      "style": "IPY_MODEL_66bc823266ec49eea493fc0d930f2387",
      "value": " 0/0 [00:00&lt;?, ?it/s]"
     }
    },
    "e9c9c10e07864cafb3757a4d134290f2": {
     "model_module": "@jupyter-widgets/base",
     "model_module_version": "1.2.0",
     "model_name": "LayoutModel",
     "state": {
      "_model_module": "@jupyter-widgets/base",
      "_model_module_version": "1.2.0",
      "_model_name": "LayoutModel",
      "_view_count": null,
      "_view_module": "@jupyter-widgets/base",
      "_view_module_version": "1.2.0",
      "_view_name": "LayoutView",
      "align_content": null,
      "align_items": null,
      "align_self": null,
      "border": null,
      "bottom": null,
      "display": null,
      "flex": null,
      "flex_flow": null,
      "grid_area": null,
      "grid_auto_columns": null,
      "grid_auto_flow": null,
      "grid_auto_rows": null,
      "grid_column": null,
      "grid_gap": null,
      "grid_row": null,
      "grid_template_areas": null,
      "grid_template_columns": null,
      "grid_template_rows": null,
      "height": null,
      "justify_content": null,
      "justify_items": null,
      "left": null,
      "margin": null,
      "max_height": null,
      "max_width": null,
      "min_height": null,
      "min_width": null,
      "object_fit": null,
      "object_position": null,
      "order": null,
      "overflow": null,
      "overflow_x": null,
      "overflow_y": null,
      "padding": null,
      "right": null,
      "top": null,
      "visibility": null,
      "width": null
     }
    },
    "f3583acf090a4a9eacb388927b20f9d2": {
     "model_module": "@jupyter-widgets/controls",
     "model_module_version": "1.5.0",
     "model_name": "VBoxModel",
     "state": {
      "_dom_classes": [
       "widget-interact"
      ],
      "_model_module": "@jupyter-widgets/controls",
      "_model_module_version": "1.5.0",
      "_model_name": "VBoxModel",
      "_view_count": null,
      "_view_module": "@jupyter-widgets/controls",
      "_view_module_version": "1.5.0",
      "_view_name": "VBoxView",
      "box_style": "",
      "children": [
       "IPY_MODEL_9ed3bc54327e4acba94a9b26b594e6e0",
       "IPY_MODEL_adce976326534c0181c695b60a636a67",
       "IPY_MODEL_b6060759ba34493aa4275a2900d32fda"
      ],
      "layout": "IPY_MODEL_bcc9e96a02ca4d869dfe47484963c1fa"
     }
    },
    "f48daf93a4c84f338c9625f9f6ec1c14": {
     "model_module": "@jupyter-widgets/controls",
     "model_module_version": "1.5.0",
     "model_name": "DescriptionStyleModel",
     "state": {
      "_model_module": "@jupyter-widgets/controls",
      "_model_module_version": "1.5.0",
      "_model_name": "DescriptionStyleModel",
      "_view_count": null,
      "_view_module": "@jupyter-widgets/base",
      "_view_module_version": "1.2.0",
      "_view_name": "StyleView",
      "description_width": ""
     }
    },
    "ff55321d8cc7405eaf2f2a37092432cc": {
     "model_module": "@jupyter-widgets/base",
     "model_module_version": "1.2.0",
     "model_name": "LayoutModel",
     "state": {
      "_model_module": "@jupyter-widgets/base",
      "_model_module_version": "1.2.0",
      "_model_name": "LayoutModel",
      "_view_count": null,
      "_view_module": "@jupyter-widgets/base",
      "_view_module_version": "1.2.0",
      "_view_name": "LayoutView",
      "align_content": null,
      "align_items": null,
      "align_self": null,
      "border": null,
      "bottom": null,
      "display": null,
      "flex": null,
      "flex_flow": null,
      "grid_area": null,
      "grid_auto_columns": null,
      "grid_auto_flow": null,
      "grid_auto_rows": null,
      "grid_column": null,
      "grid_gap": null,
      "grid_row": null,
      "grid_template_areas": null,
      "grid_template_columns": null,
      "grid_template_rows": null,
      "height": null,
      "justify_content": null,
      "justify_items": null,
      "left": null,
      "margin": null,
      "max_height": null,
      "max_width": null,
      "min_height": null,
      "min_width": null,
      "object_fit": null,
      "object_position": null,
      "order": null,
      "overflow": null,
      "overflow_x": null,
      "overflow_y": null,
      "padding": null,
      "right": null,
      "top": null,
      "visibility": null,
      "width": null
     }
    }
   }
  }
 },
 "nbformat": 4,
 "nbformat_minor": 4
}
